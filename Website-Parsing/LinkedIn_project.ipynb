{
  "cells": [
    {
      "cell_type": "markdown",
      "metadata": {
        "id": "NWb_Fz8TiUyk"
      },
      "source": [
        "# European jobs for Data Analyst entry level"
      ]
    },
    {
      "cell_type": "markdown",
      "metadata": {
        "id": "NgfhJ5jYiLwi"
      },
      "source": [
        "**Purpose:** To visualize info on Data Analyst/BI Analyst entry level jobs in Europe <br>\n",
        "**Data source:** сsv-file with offers parsed from LinkedIn for the period of a week (the date of parsing is 07-Sep-2022)"
      ]
    },
    {
      "cell_type": "markdown",
      "metadata": {
        "id": "reynhK6pU4lX"
      },
      "source": [
        "##Extracting features from html"
      ]
    },
    {
      "cell_type": "markdown",
      "metadata": {
        "id": "svjkGHSkVT9x"
      },
      "source": [
        "According to our requirement description, we need\n",
        "- job title\n",
        "- city\n",
        "- country\n",
        "- job type (online, hybride, on-site)\n",
        "- company name\n",
        "- company size (number of employees)\n",
        "- company field\n",
        "- required hard skills\n",
        "- offer date\n",
        "- number of candidates for an offer\n"
      ]
    },
    {
      "cell_type": "markdown",
      "metadata": {
        "id": "VkOZjchW-TXL"
      },
      "source": [
        "Let's import all the libraries we will need"
      ]
    },
    {
      "cell_type": "code",
      "execution_count": 1,
      "metadata": {
        "id": "2zJueygShvi1"
      },
      "outputs": [],
      "source": [
        "import pandas as pd\n",
        "from bs4 import BeautifulSoup\n",
        "import numpy as np\n",
        "import seaborn as sns\n",
        "from datetime import datetime\n",
        "from datetime import timedelta"
      ]
    },
    {
      "cell_type": "markdown",
      "metadata": {
        "id": "5LYKtX00-af6"
      },
      "source": [
        "Let's read the csv-file. It is uploaded on Gooogle Docs and can be viewed publicly."
      ]
    },
    {
      "cell_type": "code",
      "execution_count": 2,
      "metadata": {
        "id": "RoJc4SP-i5oq"
      },
      "outputs": [],
      "source": [
        "\n",
        "sheet_id = \"1J1YaJspflrP-LV0MzJj1IXvTg0EHdVeqbxO5JRnip9c\"\n",
        "sheet_name = \"masterskaya_yandex_2022_09_07\"\n",
        "url = f\"https://docs.google.com/spreadsheets/d/{sheet_id}/gviz/tq?tqx=out:csv&sheet={sheet_name}\"\n",
        "df = pd.read_csv(url)"
      ]
    },
    {
      "cell_type": "markdown",
      "metadata": {
        "id": "GUF_IifH_LsQ"
      },
      "source": [
        "Then we can take a peek on the data:"
      ]
    },
    {
      "cell_type": "code",
      "execution_count": 3,
      "metadata": {
        "colab": {
          "base_uri": "https://localhost:8080/",
          "height": 81
        },
        "id": "5PIzgLT7291P",
        "outputId": "27947f29-a6b3-4068-8916-ed2d02cda416"
      },
      "outputs": [
        {
          "data": {
            "text/html": [
              "\n",
              "  <div id=\"df-f87b1b1c-87e0-4c31-91e3-94aa44ad294a\">\n",
              "    <div class=\"colab-df-container\">\n",
              "      <div>\n",
              "<style scoped>\n",
              "    .dataframe tbody tr th:only-of-type {\n",
              "        vertical-align: middle;\n",
              "    }\n",
              "\n",
              "    .dataframe tbody tr th {\n",
              "        vertical-align: top;\n",
              "    }\n",
              "\n",
              "    .dataframe thead th {\n",
              "        text-align: right;\n",
              "    }\n",
              "</style>\n",
              "<table border=\"1\" class=\"dataframe\">\n",
              "  <thead>\n",
              "    <tr style=\"text-align: right;\">\n",
              "      <th></th>\n",
              "      <th>Unnamed: 0</th>\n",
              "      <th>html</th>\n",
              "    </tr>\n",
              "  </thead>\n",
              "  <tbody>\n",
              "    <tr>\n",
              "      <th>521</th>\n",
              "      <td>521</td>\n",
              "      <td>\\n  &lt;div&gt;\\n    &lt;div class=\"\\n        jobs-deta...</td>\n",
              "    </tr>\n",
              "  </tbody>\n",
              "</table>\n",
              "</div>\n",
              "      <button class=\"colab-df-convert\" onclick=\"convertToInteractive('df-f87b1b1c-87e0-4c31-91e3-94aa44ad294a')\"\n",
              "              title=\"Convert this dataframe to an interactive table.\"\n",
              "              style=\"display:none;\">\n",
              "        \n",
              "  <svg xmlns=\"http://www.w3.org/2000/svg\" height=\"24px\"viewBox=\"0 0 24 24\"\n",
              "       width=\"24px\">\n",
              "    <path d=\"M0 0h24v24H0V0z\" fill=\"none\"/>\n",
              "    <path d=\"M18.56 5.44l.94 2.06.94-2.06 2.06-.94-2.06-.94-.94-2.06-.94 2.06-2.06.94zm-11 1L8.5 8.5l.94-2.06 2.06-.94-2.06-.94L8.5 2.5l-.94 2.06-2.06.94zm10 10l.94 2.06.94-2.06 2.06-.94-2.06-.94-.94-2.06-.94 2.06-2.06.94z\"/><path d=\"M17.41 7.96l-1.37-1.37c-.4-.4-.92-.59-1.43-.59-.52 0-1.04.2-1.43.59L10.3 9.45l-7.72 7.72c-.78.78-.78 2.05 0 2.83L4 21.41c.39.39.9.59 1.41.59.51 0 1.02-.2 1.41-.59l7.78-7.78 2.81-2.81c.8-.78.8-2.07 0-2.86zM5.41 20L4 18.59l7.72-7.72 1.47 1.35L5.41 20z\"/>\n",
              "  </svg>\n",
              "      </button>\n",
              "      \n",
              "  <style>\n",
              "    .colab-df-container {\n",
              "      display:flex;\n",
              "      flex-wrap:wrap;\n",
              "      gap: 12px;\n",
              "    }\n",
              "\n",
              "    .colab-df-convert {\n",
              "      background-color: #E8F0FE;\n",
              "      border: none;\n",
              "      border-radius: 50%;\n",
              "      cursor: pointer;\n",
              "      display: none;\n",
              "      fill: #1967D2;\n",
              "      height: 32px;\n",
              "      padding: 0 0 0 0;\n",
              "      width: 32px;\n",
              "    }\n",
              "\n",
              "    .colab-df-convert:hover {\n",
              "      background-color: #E2EBFA;\n",
              "      box-shadow: 0px 1px 2px rgba(60, 64, 67, 0.3), 0px 1px 3px 1px rgba(60, 64, 67, 0.15);\n",
              "      fill: #174EA6;\n",
              "    }\n",
              "\n",
              "    [theme=dark] .colab-df-convert {\n",
              "      background-color: #3B4455;\n",
              "      fill: #D2E3FC;\n",
              "    }\n",
              "\n",
              "    [theme=dark] .colab-df-convert:hover {\n",
              "      background-color: #434B5C;\n",
              "      box-shadow: 0px 1px 3px 1px rgba(0, 0, 0, 0.15);\n",
              "      filter: drop-shadow(0px 1px 2px rgba(0, 0, 0, 0.3));\n",
              "      fill: #FFFFFF;\n",
              "    }\n",
              "  </style>\n",
              "\n",
              "      <script>\n",
              "        const buttonEl =\n",
              "          document.querySelector('#df-f87b1b1c-87e0-4c31-91e3-94aa44ad294a button.colab-df-convert');\n",
              "        buttonEl.style.display =\n",
              "          google.colab.kernel.accessAllowed ? 'block' : 'none';\n",
              "\n",
              "        async function convertToInteractive(key) {\n",
              "          const element = document.querySelector('#df-f87b1b1c-87e0-4c31-91e3-94aa44ad294a');\n",
              "          const dataTable =\n",
              "            await google.colab.kernel.invokeFunction('convertToInteractive',\n",
              "                                                     [key], {});\n",
              "          if (!dataTable) return;\n",
              "\n",
              "          const docLinkHtml = 'Like what you see? Visit the ' +\n",
              "            '<a target=\"_blank\" href=https://colab.research.google.com/notebooks/data_table.ipynb>data table notebook</a>'\n",
              "            + ' to learn more about interactive tables.';\n",
              "          element.innerHTML = '';\n",
              "          dataTable['output_type'] = 'display_data';\n",
              "          await google.colab.output.renderOutput(dataTable, element);\n",
              "          const docLink = document.createElement('div');\n",
              "          docLink.innerHTML = docLinkHtml;\n",
              "          element.appendChild(docLink);\n",
              "        }\n",
              "      </script>\n",
              "    </div>\n",
              "  </div>\n",
              "  "
            ],
            "text/plain": [
              "     Unnamed: 0                                               html\n",
              "521         521  \\n  <div>\\n    <div class=\"\\n        jobs-deta..."
            ]
          },
          "execution_count": 3,
          "metadata": {},
          "output_type": "execute_result"
        }
      ],
      "source": [
        "df.sample()"
      ]
    },
    {
      "cell_type": "markdown",
      "metadata": {
        "id": "Rb0EuJDI_Ul7"
      },
      "source": [
        "We have html data in here. Let's take a look on the first element to see the structure and the tags we will need for further info extraction. To see the actual structure and visually locate the tags, we can use the exact LinkedIn link or insert the html-code into any code editor."
      ]
    },
    {
      "cell_type": "code",
      "execution_count": 4,
      "metadata": {
        "colab": {
          "base_uri": "https://localhost:8080/",
          "height": 123
        },
        "id": "y32omCqRwwjZ",
        "outputId": "e978d0fa-d6c4-4865-dc81-242f57a48774"
      },
      "outputs": [
        {
          "data": {
            "application/vnd.google.colaboratory.intrinsic+json": {
              "type": "string"
            },
            "text/plain": [
              "'\\n  <div>\\n    <div class=\"\\n        jobs-details__main-content jobs-details__main-content--single-pane full-width\\n        \">\\n        \\n<!---->\\n      \\n<!---->\\n      <div>\\n        <div class=\"jobs-unified-top-card t-14\">\\n  <div class=\"relative\">\\n\\n    <div class=\"jobs-unified-top-card__content--two-pane\">\\n<!---->\\n        <a href=\"/jobs/view/3258155313/?alternateChannel=search&amp;refId=xQWMq5sHxPa4BOVKDp0TKg%3D%3D&amp;trackingId=grGqx%2FHW0EZ%2BorBvEr%2Ft%2Bg%3D%3D&amp;trk=d_flagship3_search_srp_jobs\" id=\"ember464\" class=\"ember-view\">\\n          <h2 class=\"t-24 t-bold jobs-unified-top-card__job-title\">Stage - Assistant Ingénieur Qualité - Beyrand (H/F)</h2>\\n        </a>\\n\\n      <div class=\"jobs-unified-top-card__primary-description\">\\n          <span class=\"jobs-unified-top-card__subtitle-primary-grouping t-black\">\\n            <span class=\"jobs-unified-top-card__company-name\">\\n                  <a href=\"/company/hermes-group/life/\" id=\"ember465\" class=\"ember-view t-black t-normal\">\\n                    Hermès\\n                  </a>\\n            </span>\\n              <span class=\"jobs-unified-top-card__bullet\">\\n                Limoges, Nouvelle-Aquitaine, France\\n              </span>\\n\\n              <span class=\"jobs-unified-top-card__workplace-type\">On-site</span>\\n          </span>\\n          <span class=\"jobs-unified-top-card__subtitle-secondary-grouping t-black--light\">\\n              <span class=\"jobs-unified-top-card__posted-date\\n                  jobs-unified-top-card__posted-date--new t-bold\">\\n                13 minutes ago\\n              </span>\\n<!---->          </span>\\n      </div>\\n\\n      <div class=\"mt5 mb2\">\\n          <ul>\\n                <li class=\"jobs-unified-top-card__job-insight\">\\n                  <div class=\"flex-shrink-zero mr2 t-black--light\">\\n                    <div class=\"ivm-image-view-model   \">\\n    <div class=\"ivm-view-attr__img-wrapper ivm-view-attr__img-wrapper--use-img-tag display-flex\\n    \\n    \">\\n    <li-icon aria-hidden=\"true\" type=\"job\" size=\"large\"><svg xmlns=\"http://www.w3.org/2000/svg\" viewBox=\"0 0 24 24\" data-supported-dps=\"24x24\" fill=\"currentColor\" class=\"mercado-match\" width=\"24\" height=\"24\" focusable=\"false\">\\n  <path d=\"M17 6V5a3 3 0 00-3-3h-4a3 3 0 00-3 3v1H2v4a3 3 0 003 3h14a3 3 0 003-3V6zM9 5a1 1 0 011-1h4a1 1 0 011 1v1H9zm10 9a4 4 0 003-1.38V17a3 3 0 01-3 3H5a3 3 0 01-3-3v-4.38A4 4 0 005 14z\"></path>\\n</svg></li-icon>\\n</div>\\n  </div>\\n                  </div>\\n                  <span>\\n                    <!---->Internship · Entry level<!---->\\n                  </span>\\n                </li>\\n                <li class=\"jobs-unified-top-card__job-insight\">\\n                  <div class=\"flex-shrink-zero mr2 t-black--light\">\\n                    <div class=\"ivm-image-view-model   \">\\n    <div class=\"ivm-view-attr__img-wrapper ivm-view-attr__img-wrapper--use-img-tag display-flex\\n    \\n    \">\\n    <li-icon aria-hidden=\"true\" type=\"company\" size=\"large\"><svg xmlns=\"http://www.w3.org/2000/svg\" viewBox=\"0 0 24 24\" data-supported-dps=\"24x24\" fill=\"currentColor\" class=\"mercado-match\" width=\"24\" height=\"24\" focusable=\"false\">\\n  <path d=\"M4 2v20h16V2zm14 18h-4v-2h-4v2H6V4h12zm-7-8H8v-2h3zm0 4H8v-2h3zm5-4h-3v-2h3zm-5-4H8V6h3zm5 0h-3V6h3zm0 8h-3v-2h3z\"></path>\\n</svg></li-icon>\\n</div>\\n  </div>\\n                  </div>\\n                  <span>\\n                    <!---->10,001+ employees · Retail Luxury Goods and Jewelry<!---->\\n                  </span>\\n                </li>\\n                    <li class=\"jobs-unified-top-card__job-insight jobs-unified-top-card__job-insight--highlight\">\\n                      <div class=\"flex-shrink-zero mr2 t-black--light\">\\n                        <div class=\"ivm-image-view-model   \">\\n    <div class=\"ivm-view-attr__img-wrapper ivm-view-attr__img-wrapper--use-img-tag display-flex\\n    \\n    \">\\n    <li-icon aria-hidden=\"true\" type=\"lightbulb\" size=\"medium\"><svg xmlns=\"http://www.w3.org/2000/svg\" viewBox=\"0 0 24 24\" data-supported-dps=\"24x24\" fill=\"currentColor\" class=\"mercado-match\" width=\"24\" height=\"24\" focusable=\"false\">\\n  <path d=\"M10 20h4v.1a1.9 1.9 0 01-1.9 1.9h-.2a1.9 1.9 0 01-1.9-1.9zm4.68-14.47A1 1 0 0016 5l.76-1.85a1 1 0 00-.54-1.3 1 1 0 00-1.31.54l-.76 1.85a1 1 0 00.53 1.29zm5.09 4.33l1.85-.76a1 1 0 00.54-1.31 1 1 0 00-1.3-.54L19 8a1 1 0 00-.54 1.31 1 1 0 001.3.55zM4.23 14.14l-1.85.76a1 1 0 00-.54 1.31 1 1 0 001.3.54L5 16a1 1 0 00.54-1.31 1 1 0 00-1.3-.55zm17.39.76l-1.85-.76A1 1 0 0019 16l1.85.76a1 1 0 00.78-1.86zM5 8l-1.86-.75a1 1 0 00-1.3.54 1 1 0 00.54 1.31l1.85.76A1 1 0 005 8zm3-3a1 1 0 001.31.54 1 1 0 00.54-1.3L9.1 2.38a1 1 0 00-1.31-.54 1 1 0 00-.54 1.3zm9 6.91V12a5.48 5.48 0 01-1.61 3.88l-.07.08a3.94 3.94 0 00-1.08 1.94L14 19h-4l-.24-1.08A4 4 0 008.68 16l-.07-.07A5.51 5.51 0 017 12v-.1A4.9 4.9 0 0111.9 7h.2a4.9 4.9 0 014.9 4.9zm-2 0A2.9 2.9 0 0012.11 9h-.21A2.9 2.9 0 009 11.9v.1a3.47 3.47 0 001 2.47l.08.08a5.92 5.92 0 011.5 2.45h.84a6 6 0 011.48-2.44l.08-.07A3.48 3.48 0 0015 12z\"></path>\\n</svg></li-icon>\\n</div>\\n  </div>\\n                      </div>\\n                      <span>\\n                        <!---->See recent hiring trends for Hermès.<span class=\"white-space-pre\"> </span><a class=\"app-aware-link\" target=\"_self\" href=\"https://www.linkedin.com/premium/products/?family=JSS&amp;upsellOrderOrigin=premium_job_details_summary_card&amp;utype=job\"><!---->Unlock more Premium insights for free<!----></a>\\n                      </span>\\n                    </li>\\n                <li class=\"jobs-unified-top-card__job-insight\">\\n                  <div class=\"flex-shrink-zero mr2 t-black--light\">\\n                    <div class=\"ivm-image-view-model   \">\\n    <div class=\"ivm-view-attr__img-wrapper ivm-view-attr__img-wrapper--use-img-tag display-flex\\n    \\n    \">\\n    <li-icon type=\"radar-screen-icon\" class=\"ivm-view-attr__icon--signal-positive \" size=\"large\" role=\"img\" aria-label=\"Actively recruiting\"><svg xmlns=\"http://www.w3.org/2000/svg\" viewBox=\"0 0 24 24\" data-supported-dps=\"24x24\" fill=\"currentColor\" class=\"mercado-match\" width=\"24\" height=\"24\" focusable=\"false\">\\n  <path d=\"M12 20a8 8 0 010-16 7.91 7.91 0 014.9 1.69l-1.43 1.42a6 6 0 101.42 1.42l3.82-3.82a1 1 0 000-1.41A1 1 0 0020 3a1 1 0 00-.7.29l-1 1A10 10 0 1022 12h-2a8 8 0 01-8 8zm5-8a5 5 0 11-5-5 4.93 4.93 0 012.76.82l-2.24 2.24A2.24 2.24 0 0012 10a2 2 0 102 2 2.24 2.24 0 00-.07-.51l2.24-2.24A5 5 0 0117 12z\"></path>\\n</svg></li-icon>\\n</div>\\n  </div>\\n                  </div>\\n                  <span>\\n                    <!---->Actively recruiting<!---->\\n                  </span>\\n                </li>\\n          </ul>\\n              </div>\\n\\n      <div class=\"mt5\">\\n          <div class=\"display-flex\">\\n              <div class=\"jobs-s-apply jobs-s-apply--fadein inline-flex mr2\">\\n    <div class=\"jobs-apply-button--top-card\">\\n  <button role=\"link\" aria-label=\"Apply to Stage - Assistant Ingénieur Qualité - Beyrand (H/F) on company website\" id=\"ember654\" class=\"jobs-apply-button artdeco-button artdeco-button--icon-right artdeco-button--3 artdeco-button--primary ember-view\">  <li-icon aria-hidden=\"true\" type=\"link-external\" class=\"artdeco-button__icon\" size=\"small\"><svg xmlns=\"http://www.w3.org/2000/svg\" viewBox=\"0 0 16 16\" data-supported-dps=\"16x16\" fill=\"currentColor\" class=\"mercado-match\" width=\"16\" height=\"16\" focusable=\"false\">\\n  <path d=\"M15 1v6h-2V4.41L7.41 10 6 8.59 11.59 3H9V1zm-4 10a1 1 0 01-1 1H5a1 1 0 01-1-1V6a1 1 0 011-1h2V3H5a3 3 0 00-3 3v5a3 3 0 003 3h5a3 3 0 003-3V9h-2z\"></path>\\n</svg></li-icon>\\n\\n<span class=\"artdeco-button__text\">\\n    Apply\\n</span></button>\\n</div>\\n</div>\\n              <button class=\"jobs-save-button artdeco-button artdeco-button--3 artdeco-button--secondary\" type=\"button\">\\n<!---->      <span aria-hidden=\"true\">\\n        Save\\n      </span>\\n    <span class=\"a11y-text\">\\n      Save Stage - Assistant Ingénieur Qualité - Beyrand (H/F) at Hermès\\n    </span>\\n</button>\\n          </div>\\n\\n<!---->\\n<!----><!---->      </div>\\n\\n<!---->\\n<!---->\\n<!---->\\n<!---->    </div>\\n\\n<!---->\\n<!---->\\n    <div class=\"jobs-unified-top-card__buttons-container absolute\">\\n      <div class=\"display-flex flex-column\">\\n        <div class=\"display-flex justify-flex-end\">\\n            <div id=\"ember466\" class=\"artdeco-dropdown artdeco-dropdown--placement-bottom artdeco-dropdown--justification-right ember-view\">\\n\\n    <button aria-expanded=\"false\" id=\"ember467\" class=\"social-share__dropdown-trigger artdeco-button artdeco-button--3 artdeco-button--tertiary artdeco-button--circle artdeco-button--muted artdeco-dropdown__trigger artdeco-dropdown__trigger--placement-bottom ember-view\" type=\"button\" tabindex=\"0\">\\n      <li-icon aria-hidden=\"true\" type=\"share-linkedin\" class=\"artdeco-button__icon\" size=\"medium\"><svg xmlns=\"http://www.w3.org/2000/svg\" viewBox=\"0 0 24 24\" data-supported-dps=\"24x24\" fill=\"currentColor\" class=\"mercado-match\" width=\"24\" height=\"24\" focusable=\"false\">\\n  <path d=\"M23 12l-4.61 7H16l4-6H8a3.92 3.92 0 00-4 3.84V17a4 4 0 00.19 1.24L5.12 21H3l-.73-2.22A6.4 6.4 0 012 16.94 6 6 0 018 11h12l-4-6h2.39z\"></path>\\n</svg></li-icon>\\n      <span class=\"artdeco-button__text\">Share</span>\\n    \\n<!----></button>\\n\\n  <div tabindex=\"-1\" aria-hidden=\"true\" id=\"ember468\" class=\"social-share__content text-align-left artdeco-dropdown__content artdeco-dropdown--is-dropdown-element artdeco-dropdown__content--has-arrow artdeco-dropdown__content--arrow-right artdeco-dropdown__content--justification-right artdeco-dropdown__content--placement-bottom ember-view\"><!----></div>\\n</div>\\n\\n<div>\\n    \\n    \\n<!---->    \\n  \\n\\n</div>\\n            <div id=\"ember469\" class=\"artdeco-dropdown jobs-options artdeco-dropdown--placement-bottom artdeco-dropdown--justification-right ember-view\">\\n  \\n              <button aria-expanded=\"false\" id=\"ember470\" class=\"artdeco-button artdeco-button--3 artdeco-button--tertiary artdeco-button--muted artdeco-button--circle artdeco-dropdown__trigger artdeco-dropdown__trigger--placement-bottom ember-view\" type=\"button\" tabindex=\"0\">\\n                <li-icon aria-hidden=\"true\" type=\"overflow-web-ios\" class=\"artdeco-button__icon\"><svg xmlns=\"http://www.w3.org/2000/svg\" viewBox=\"0 0 24 24\" data-supported-dps=\"24x24\" fill=\"currentColor\" class=\"mercado-match\" width=\"24\" height=\"24\" focusable=\"false\">\\n  <path d=\"M14 12a2 2 0 11-2-2 2 2 0 012 2zM4 10a2 2 0 102 2 2 2 0 00-2-2zm16 0a2 2 0 102 2 2 2 0 00-2-2z\"></path>\\n</svg></li-icon>\\n                <span class=\"artdeco-button__text\">\\n                  Show more options\\n                </span>\\n              \\n<!----></button>\\n            \\n  <div tabindex=\"-1\" aria-hidden=\"true\" id=\"ember471\" class=\"artdeco-dropdown__content artdeco-dropdown--is-dropdown-element artdeco-dropdown__content--has-arrow artdeco-dropdown__content--arrow-right artdeco-dropdown__content--justification-right artdeco-dropdown__content--placement-bottom ember-view\"><!----></div>\\n</div>\\n        </div>\\n<!---->      </div>\\n    </div>\\n  </div>\\n    <div class=\"jobs-unified-top-card__sticky-header\\n        jobs-unified-top-card__sticky-header--disabled\">\\n      <div class=\"jobs-unified-top-card__title-container\">\\n          <a data-control-id=\"grGqx/HW0EZ+orBvEr/t+g==\" href=\"/jobs/view/3258155313/?alternateChannel=search&amp;refId=xQWMq5sHxPa4BOVKDp0TKg%3D%3D&amp;trackingId=grGqx%2FHW0EZ%2BorBvEr%2Ft%2Bg%3D%3D&amp;trk=d_flagship3_search_srp_jobs\" id=\"ember472\" class=\"ember-view\">\\n            <h2 class=\"t-16 t-black t-bold truncate\">\\n              Stage - Assistant Ingénieur Qualité - Beyrand (H/F)\\n            </h2>\\n          </a>\\n        <div class=\"t-14 truncate\">\\n          <span>Hermès</span>\\n            <span class=\"jobs-unified-top-card__bullet\">Limoges, Nouvelle-Aquitaine, France</span>\\n            <span class=\"jobs-unified-top-card__workplace-type\">On-site</span>\\n        </div>\\n      </div>\\n      <div class=\"jobs-unified-top-card__sticky-buttons-container\">\\n          <div class=\"jobs-s-apply jobs-s-apply--fadein inline-flex mr2\">\\n    <div class=\"jobs-apply-button--top-card\">\\n  <button role=\"link\" aria-label=\"Apply to Stage - Assistant Ingénieur Qualité - Beyrand (H/F) on company website\" id=\"ember655\" class=\"jobs-apply-button artdeco-button artdeco-button--icon-right artdeco-button--2 artdeco-button--primary ember-view\">  <li-icon aria-hidden=\"true\" type=\"link-external\" class=\"artdeco-button__icon\" size=\"small\"><svg xmlns=\"http://www.w3.org/2000/svg\" viewBox=\"0 0 16 16\" data-supported-dps=\"16x16\" fill=\"currentColor\" class=\"mercado-match\" width=\"16\" height=\"16\" focusable=\"false\">\\n  <path d=\"M15 1v6h-2V4.41L7.41 10 6 8.59 11.59 3H9V1zm-4 10a1 1 0 01-1 1H5a1 1 0 01-1-1V6a1 1 0 011-1h2V3H5a3 3 0 00-3 3v5a3 3 0 003 3h5a3 3 0 003-3V9h-2z\"></path>\\n</svg></li-icon>\\n\\n<span class=\"artdeco-button__text\">\\n    Apply\\n</span></button>\\n</div>\\n</div>\\n\\n          <button class=\"jobs-save-button mr2 artdeco-button artdeco-button--2 artdeco-button--secondary\" aria-expanded=\"false\" type=\"button\">\\n<!---->      <span aria-hidden=\"true\">\\n        Save\\n      </span>\\n    <span class=\"a11y-text\">\\n      Save Stage - Assistant Ingénieur Qualité - Beyrand (H/F) at Hermès\\n    </span>\\n</button>\\n\\n        <div id=\"ember473\" class=\"artdeco-dropdown jobs-options artdeco-dropdown--placement-bottom artdeco-dropdown--justification-right ember-view inline-flex\">\\n  \\n          <button aria-expanded=\"false\" id=\"ember474\" class=\"artdeco-button artdeco-button--2 artdeco-button--tertiary artdeco-button--muted artdeco-button--circle artdeco-dropdown__trigger artdeco-dropdown__trigger--placement-bottom ember-view\" type=\"button\" tabindex=\"0\">\\n\\n            <li-icon aria-hidden=\"true\" type=\"overflow-web-ios\" class=\"artdeco-button__icon\"><svg xmlns=\"http://www.w3.org/2000/svg\" viewBox=\"0 0 24 24\" data-supported-dps=\"24x24\" fill=\"currentColor\" class=\"mercado-match\" width=\"24\" height=\"24\" focusable=\"false\">\\n  <path d=\"M14 12a2 2 0 11-2-2 2 2 0 012 2zM4 10a2 2 0 102 2 2 2 0 00-2-2zm16 0a2 2 0 102 2 2 2 0 00-2-2z\"></path>\\n</svg></li-icon>\\n            <span class=\"artdeco-button__text\">\\n              Show more options\\n            </span>\\n          \\n<!----></button>\\n        \\n  <div tabindex=\"-1\" aria-hidden=\"true\" id=\"ember475\" class=\"artdeco-dropdown__content artdeco-dropdown--is-dropdown-element artdeco-dropdown__content--has-arrow artdeco-dropdown__content--arrow-right artdeco-dropdown__content--justification-right artdeco-dropdown__content--placement-bottom ember-view\"><!----></div>\\n</div>\\n      </div>\\n    </div>\\n</div>\\n\\n<!---->      </div>\\n\\n<!---->\\n        <div class=\"jobs-box--fadein jobs-box--full-width jobs-box--with-cta-large jobs-description\\n    \\n    \\n    \\n     jobs-description--reformatted\\n    \\n    \">\\n\\n<!---->\\n  <article class=\"jobs-description__container\\n      m4\">\\n    <div class=\"jobs-description__content jobs-description-content\\n        \">\\n      <div class=\"jobs-box__html-content jobs-description-content__text t-14 t-normal\\n          jobs-description-content__text--stretch\" id=\"job-details\" tabindex=\"-1\">\\n<!---->\\n<!---->\\n<!---->        <span>\\n                <strong><u>LA SOCIETE :</u> </strong><p><br>\\n</p>Créée en 1926, la société Beyrand, filiale du Groupe Hermès depuis 2013, met au point, développe et reproduit les décors de ses clients sur des supports tels que la céramique (bone china, faïence et porcelaine), l\\'émail, le verre ou le cuir.<p><br>\\n</p>Par la précision de son savoir-faire et sa capacité à innover, Beyrand se positionne comme référent mondial dans le domaine de l’impression sérigraphique et partenaire d’excellence pour l’industrie du luxe.<p><br>\\n</p>Des choix stratégiques et technologiques ambitieux destinés à s’adapter aux besoins de ses clients, actuels et à venir, permettent aujourd’hui à Beyrand d’étendre son expertise au-delà de ses marchés traditionnels (Art de la Table, sanitaire, <i>giftware</i>) pour conquérir et développer de nouveaux territoires (notamment maroquinerie). Son ambition est d’affirmer son positionnement d’excellence sur le marché B2B de décoration de l’industrie du luxe, en proposant un savoir-faire de décoration de haute précision sur une variété de supports, faisant appel à une variété de technologies.<p><br>\\n</p><strong>Stage de 6 mois à pouvoir pour janvier 2023. Basé à Saint-Just-le-Martel, à proximité de Limoges.</strong><p><br>\\n</p><strong><u>MISSIONS GENERALE :</u></strong><p><br>\\n</p>Le/la stagiaire Ingénieur Qualité aura pour mission d’accompagner le Responsable Qualité du site dans la mise en place de méthodes de résolution de problèmes dans les ateliers, dans la formalisation de nos processus et plans de contrôle ainsi que dans la robustesse des contrôles amonts au process de fabrication. Ces étapes s’inscrivent dans notre feuille de route d’amélioration continue de la Qualité opérationnelle de l’entreprise et de la satisfaction de nos clients.<p><br>\\n</p><strong><u> PRINCIPALES ACTIVITES : </u></strong><p><br>\\n</p><ul><li>Résolutions de problèmes terrain</li><li>Déploiement de méthode type QRQC en ateliers de production (impression, couleurs, écrans) </li><li>Participation à des groupes de travail sur la résolution de problèmes Qualité (internes &amp; externes) </li><li>Coconstruire les outils de formation et piloter leurs déploiements auprès des opérationnels </li><li>Opérations de contrôles</li><li>Définition/formalisation de plans de contrôles génériques par type de produit </li><li>Animation des tests Reproductibilité &amp; Répétabilité des outils de mesure (spectrophotomètres…) </li><li>Amélioration/mise en place de contrôles sur les paramètres critiques en amont de l’impression (couleur des pâtes, dimensions tissus…) </li><li>Système qualité</li><li>Déploiement du système qualité sur les postes (modes opératoires et procédures) </li><li>Mettre en place des audits produit/process pour renforcer la culture Qualité sur le site </li><li>Participation à la capitalisation des savoir-faire <br>\\n</li></ul><p><br>\\n</p><strong><u>PROFIL :</u></strong><p><br>\\n</p>Étudiant(e) de formation Bac +5 à dominante industrielle à la recherche d’un stage de fin d’études (6 mois), avec idéalement une première expérience en entreprise (Qualité, Méthode, Production).<p><br>\\n</p>Vous êtes à l’aise avec les outils et méthodes de l’amélioration continue : Plan de surveillance, 5 Pourquoi, 5M, 5S, Muda, AMDEC Risques…<p><br>\\n</p>Vous souhaitez vous investir dans une expérience formatrice et très opérationnelle.<p><br>\\n</p>Vous êtes curieux, autonome et vous avez de grandes capacités d’analyse et de rigueur, tout en ayant un bon sens pratique et un goût pour le terrain, avec des capacités à mettre en œuvre les méthodologies de résolution de problème.<p><br>\\n</p>Enfin, vous avez un excellent niveau de communication écrit et oral.\\n<!---->        </span>\\n      </div>\\n<!---->      <div class=\"jobs-description__details\">\\n<!---->\\n      </div>\\n    </div>\\n  </article>\\n<!----></div>\\n<!----><!---->\\n                <div id=\"SALARY\" class=\"ember-view jobs-box--generic-occludable-area-large   jobs-unified-description__salary-main-rail-card\">\\n<!---->    </div>\\n\\n\\n<!----><!---->\\n<!---->\\n<!---->\\n                <div id=\"ember657\" class=\"ember-view jobs-box--generic-occludable-area-large  \">\\n<!---->    </div>\\n\\n\\n<!---->    </div>\\n\\n<!---->  </div>\\n\\n  <div id=\"ember477\" class=\"ember-view\"><!----></div>\\n\\n<div id=\"ember478\" class=\"ember-view\"><div id=\"ember479\" class=\"ember-view\"><!----></div></div>\\n\\n  <div>\\n  <div id=\"ember480\" class=\"ember-view\"><!----></div>\\n</div>\\n\\n  <div id=\"ember481\" class=\"ember-view\"><!----></div>\\n\\n<!---->\\n  <div class=\"jobs-message-modal\">\\n  <div id=\"ember482\" class=\"ember-view\"><!----></div>\\n</div>\\n\\n<!---->\\n<!---->\\n<!---->\\n  <div id=\"ember483\" class=\"ember-view\"><!----></div>\\n'"
            ]
          },
          "execution_count": 4,
          "metadata": {},
          "output_type": "execute_result"
        }
      ],
      "source": [
        "job = df['html'][0]\n",
        "job"
      ]
    },
    {
      "cell_type": "markdown",
      "metadata": {
        "id": "htPSkh9ZAXxz"
      },
      "source": [
        "We are going to use Beautiful Soup library to find all the job titles. They are hidden under h2 tags."
      ]
    },
    {
      "cell_type": "code",
      "execution_count": 5,
      "metadata": {
        "id": "pmTAklwvy-rJ"
      },
      "outputs": [],
      "source": [
        "df['title'] = df['html'].apply(lambda x:  BeautifulSoup(x).find('h2').text.strip())"
      ]
    },
    {
      "cell_type": "code",
      "execution_count": 6,
      "metadata": {
        "colab": {
          "base_uri": "https://localhost:8080/",
          "height": 81
        },
        "id": "NERKCb_ZzS4h",
        "outputId": "df6eaccb-838b-4a56-f009-614b00778336"
      },
      "outputs": [
        {
          "data": {
            "text/html": [
              "\n",
              "  <div id=\"df-151f4095-062a-4b06-801f-450334f70de6\">\n",
              "    <div class=\"colab-df-container\">\n",
              "      <div>\n",
              "<style scoped>\n",
              "    .dataframe tbody tr th:only-of-type {\n",
              "        vertical-align: middle;\n",
              "    }\n",
              "\n",
              "    .dataframe tbody tr th {\n",
              "        vertical-align: top;\n",
              "    }\n",
              "\n",
              "    .dataframe thead th {\n",
              "        text-align: right;\n",
              "    }\n",
              "</style>\n",
              "<table border=\"1\" class=\"dataframe\">\n",
              "  <thead>\n",
              "    <tr style=\"text-align: right;\">\n",
              "      <th></th>\n",
              "      <th>Unnamed: 0</th>\n",
              "      <th>html</th>\n",
              "      <th>title</th>\n",
              "    </tr>\n",
              "  </thead>\n",
              "  <tbody>\n",
              "    <tr>\n",
              "      <th>297</th>\n",
              "      <td>297</td>\n",
              "      <td>\\n  &lt;div&gt;\\n    &lt;div class=\"\\n        jobs-deta...</td>\n",
              "      <td>Data Analytics Analyst</td>\n",
              "    </tr>\n",
              "  </tbody>\n",
              "</table>\n",
              "</div>\n",
              "      <button class=\"colab-df-convert\" onclick=\"convertToInteractive('df-151f4095-062a-4b06-801f-450334f70de6')\"\n",
              "              title=\"Convert this dataframe to an interactive table.\"\n",
              "              style=\"display:none;\">\n",
              "        \n",
              "  <svg xmlns=\"http://www.w3.org/2000/svg\" height=\"24px\"viewBox=\"0 0 24 24\"\n",
              "       width=\"24px\">\n",
              "    <path d=\"M0 0h24v24H0V0z\" fill=\"none\"/>\n",
              "    <path d=\"M18.56 5.44l.94 2.06.94-2.06 2.06-.94-2.06-.94-.94-2.06-.94 2.06-2.06.94zm-11 1L8.5 8.5l.94-2.06 2.06-.94-2.06-.94L8.5 2.5l-.94 2.06-2.06.94zm10 10l.94 2.06.94-2.06 2.06-.94-2.06-.94-.94-2.06-.94 2.06-2.06.94z\"/><path d=\"M17.41 7.96l-1.37-1.37c-.4-.4-.92-.59-1.43-.59-.52 0-1.04.2-1.43.59L10.3 9.45l-7.72 7.72c-.78.78-.78 2.05 0 2.83L4 21.41c.39.39.9.59 1.41.59.51 0 1.02-.2 1.41-.59l7.78-7.78 2.81-2.81c.8-.78.8-2.07 0-2.86zM5.41 20L4 18.59l7.72-7.72 1.47 1.35L5.41 20z\"/>\n",
              "  </svg>\n",
              "      </button>\n",
              "      \n",
              "  <style>\n",
              "    .colab-df-container {\n",
              "      display:flex;\n",
              "      flex-wrap:wrap;\n",
              "      gap: 12px;\n",
              "    }\n",
              "\n",
              "    .colab-df-convert {\n",
              "      background-color: #E8F0FE;\n",
              "      border: none;\n",
              "      border-radius: 50%;\n",
              "      cursor: pointer;\n",
              "      display: none;\n",
              "      fill: #1967D2;\n",
              "      height: 32px;\n",
              "      padding: 0 0 0 0;\n",
              "      width: 32px;\n",
              "    }\n",
              "\n",
              "    .colab-df-convert:hover {\n",
              "      background-color: #E2EBFA;\n",
              "      box-shadow: 0px 1px 2px rgba(60, 64, 67, 0.3), 0px 1px 3px 1px rgba(60, 64, 67, 0.15);\n",
              "      fill: #174EA6;\n",
              "    }\n",
              "\n",
              "    [theme=dark] .colab-df-convert {\n",
              "      background-color: #3B4455;\n",
              "      fill: #D2E3FC;\n",
              "    }\n",
              "\n",
              "    [theme=dark] .colab-df-convert:hover {\n",
              "      background-color: #434B5C;\n",
              "      box-shadow: 0px 1px 3px 1px rgba(0, 0, 0, 0.15);\n",
              "      filter: drop-shadow(0px 1px 2px rgba(0, 0, 0, 0.3));\n",
              "      fill: #FFFFFF;\n",
              "    }\n",
              "  </style>\n",
              "\n",
              "      <script>\n",
              "        const buttonEl =\n",
              "          document.querySelector('#df-151f4095-062a-4b06-801f-450334f70de6 button.colab-df-convert');\n",
              "        buttonEl.style.display =\n",
              "          google.colab.kernel.accessAllowed ? 'block' : 'none';\n",
              "\n",
              "        async function convertToInteractive(key) {\n",
              "          const element = document.querySelector('#df-151f4095-062a-4b06-801f-450334f70de6');\n",
              "          const dataTable =\n",
              "            await google.colab.kernel.invokeFunction('convertToInteractive',\n",
              "                                                     [key], {});\n",
              "          if (!dataTable) return;\n",
              "\n",
              "          const docLinkHtml = 'Like what you see? Visit the ' +\n",
              "            '<a target=\"_blank\" href=https://colab.research.google.com/notebooks/data_table.ipynb>data table notebook</a>'\n",
              "            + ' to learn more about interactive tables.';\n",
              "          element.innerHTML = '';\n",
              "          dataTable['output_type'] = 'display_data';\n",
              "          await google.colab.output.renderOutput(dataTable, element);\n",
              "          const docLink = document.createElement('div');\n",
              "          docLink.innerHTML = docLinkHtml;\n",
              "          element.appendChild(docLink);\n",
              "        }\n",
              "      </script>\n",
              "    </div>\n",
              "  </div>\n",
              "  "
            ],
            "text/plain": [
              "     Unnamed: 0                                               html  \\\n",
              "297         297  \\n  <div>\\n    <div class=\"\\n        jobs-deta...   \n",
              "\n",
              "                      title  \n",
              "297  Data Analytics Analyst  "
            ]
          },
          "execution_count": 6,
          "metadata": {},
          "output_type": "execute_result"
        }
      ],
      "source": [
        "df.sample()"
      ]
    },
    {
      "cell_type": "markdown",
      "metadata": {
        "id": "6HqK40C8AtXe"
      },
      "source": [
        "Next thing we can find is location. For each job we will find a corresponding tag and put it into a try-except cycle."
      ]
    },
    {
      "cell_type": "code",
      "execution_count": 7,
      "metadata": {
        "id": "_8ZEhyktz0q5"
      },
      "outputs": [],
      "source": [
        "def get_geo(cell):\n",
        "    try:\n",
        "        return BeautifulSoup(cell).find('span', class_ = 'jobs-unified-top-card__bullet').text.strip()\n",
        "    except:\n",
        "        return np.nan"
      ]
    },
    {
      "cell_type": "code",
      "execution_count": 8,
      "metadata": {
        "id": "gWsX3Ep5z3ab"
      },
      "outputs": [],
      "source": [
        "df['geo'] = df['html'].apply(get_geo)"
      ]
    },
    {
      "cell_type": "code",
      "execution_count": 9,
      "metadata": {
        "colab": {
          "base_uri": "https://localhost:8080/",
          "height": 81
        },
        "id": "6rnf9nj7z8WS",
        "outputId": "b5f4c75e-f5a2-4a22-ec9d-01a1c89089c3"
      },
      "outputs": [
        {
          "data": {
            "text/html": [
              "\n",
              "  <div id=\"df-b7f48ead-bae1-4cb0-85db-b52d3821e0a8\">\n",
              "    <div class=\"colab-df-container\">\n",
              "      <div>\n",
              "<style scoped>\n",
              "    .dataframe tbody tr th:only-of-type {\n",
              "        vertical-align: middle;\n",
              "    }\n",
              "\n",
              "    .dataframe tbody tr th {\n",
              "        vertical-align: top;\n",
              "    }\n",
              "\n",
              "    .dataframe thead th {\n",
              "        text-align: right;\n",
              "    }\n",
              "</style>\n",
              "<table border=\"1\" class=\"dataframe\">\n",
              "  <thead>\n",
              "    <tr style=\"text-align: right;\">\n",
              "      <th></th>\n",
              "      <th>Unnamed: 0</th>\n",
              "      <th>html</th>\n",
              "      <th>title</th>\n",
              "      <th>geo</th>\n",
              "    </tr>\n",
              "  </thead>\n",
              "  <tbody>\n",
              "    <tr>\n",
              "      <th>213</th>\n",
              "      <td>213</td>\n",
              "      <td>\\n  &lt;div&gt;\\n    &lt;div class=\"\\n        jobs-deta...</td>\n",
              "      <td>Machine Learning Engineer</td>\n",
              "      <td>Paris, Île-de-France, France</td>\n",
              "    </tr>\n",
              "  </tbody>\n",
              "</table>\n",
              "</div>\n",
              "      <button class=\"colab-df-convert\" onclick=\"convertToInteractive('df-b7f48ead-bae1-4cb0-85db-b52d3821e0a8')\"\n",
              "              title=\"Convert this dataframe to an interactive table.\"\n",
              "              style=\"display:none;\">\n",
              "        \n",
              "  <svg xmlns=\"http://www.w3.org/2000/svg\" height=\"24px\"viewBox=\"0 0 24 24\"\n",
              "       width=\"24px\">\n",
              "    <path d=\"M0 0h24v24H0V0z\" fill=\"none\"/>\n",
              "    <path d=\"M18.56 5.44l.94 2.06.94-2.06 2.06-.94-2.06-.94-.94-2.06-.94 2.06-2.06.94zm-11 1L8.5 8.5l.94-2.06 2.06-.94-2.06-.94L8.5 2.5l-.94 2.06-2.06.94zm10 10l.94 2.06.94-2.06 2.06-.94-2.06-.94-.94-2.06-.94 2.06-2.06.94z\"/><path d=\"M17.41 7.96l-1.37-1.37c-.4-.4-.92-.59-1.43-.59-.52 0-1.04.2-1.43.59L10.3 9.45l-7.72 7.72c-.78.78-.78 2.05 0 2.83L4 21.41c.39.39.9.59 1.41.59.51 0 1.02-.2 1.41-.59l7.78-7.78 2.81-2.81c.8-.78.8-2.07 0-2.86zM5.41 20L4 18.59l7.72-7.72 1.47 1.35L5.41 20z\"/>\n",
              "  </svg>\n",
              "      </button>\n",
              "      \n",
              "  <style>\n",
              "    .colab-df-container {\n",
              "      display:flex;\n",
              "      flex-wrap:wrap;\n",
              "      gap: 12px;\n",
              "    }\n",
              "\n",
              "    .colab-df-convert {\n",
              "      background-color: #E8F0FE;\n",
              "      border: none;\n",
              "      border-radius: 50%;\n",
              "      cursor: pointer;\n",
              "      display: none;\n",
              "      fill: #1967D2;\n",
              "      height: 32px;\n",
              "      padding: 0 0 0 0;\n",
              "      width: 32px;\n",
              "    }\n",
              "\n",
              "    .colab-df-convert:hover {\n",
              "      background-color: #E2EBFA;\n",
              "      box-shadow: 0px 1px 2px rgba(60, 64, 67, 0.3), 0px 1px 3px 1px rgba(60, 64, 67, 0.15);\n",
              "      fill: #174EA6;\n",
              "    }\n",
              "\n",
              "    [theme=dark] .colab-df-convert {\n",
              "      background-color: #3B4455;\n",
              "      fill: #D2E3FC;\n",
              "    }\n",
              "\n",
              "    [theme=dark] .colab-df-convert:hover {\n",
              "      background-color: #434B5C;\n",
              "      box-shadow: 0px 1px 3px 1px rgba(0, 0, 0, 0.15);\n",
              "      filter: drop-shadow(0px 1px 2px rgba(0, 0, 0, 0.3));\n",
              "      fill: #FFFFFF;\n",
              "    }\n",
              "  </style>\n",
              "\n",
              "      <script>\n",
              "        const buttonEl =\n",
              "          document.querySelector('#df-b7f48ead-bae1-4cb0-85db-b52d3821e0a8 button.colab-df-convert');\n",
              "        buttonEl.style.display =\n",
              "          google.colab.kernel.accessAllowed ? 'block' : 'none';\n",
              "\n",
              "        async function convertToInteractive(key) {\n",
              "          const element = document.querySelector('#df-b7f48ead-bae1-4cb0-85db-b52d3821e0a8');\n",
              "          const dataTable =\n",
              "            await google.colab.kernel.invokeFunction('convertToInteractive',\n",
              "                                                     [key], {});\n",
              "          if (!dataTable) return;\n",
              "\n",
              "          const docLinkHtml = 'Like what you see? Visit the ' +\n",
              "            '<a target=\"_blank\" href=https://colab.research.google.com/notebooks/data_table.ipynb>data table notebook</a>'\n",
              "            + ' to learn more about interactive tables.';\n",
              "          element.innerHTML = '';\n",
              "          dataTable['output_type'] = 'display_data';\n",
              "          await google.colab.output.renderOutput(dataTable, element);\n",
              "          const docLink = document.createElement('div');\n",
              "          docLink.innerHTML = docLinkHtml;\n",
              "          element.appendChild(docLink);\n",
              "        }\n",
              "      </script>\n",
              "    </div>\n",
              "  </div>\n",
              "  "
            ],
            "text/plain": [
              "     Unnamed: 0                                               html  \\\n",
              "213         213  \\n  <div>\\n    <div class=\"\\n        jobs-deta...   \n",
              "\n",
              "                         title                           geo  \n",
              "213  Machine Learning Engineer  Paris, Île-de-France, France  "
            ]
          },
          "execution_count": 9,
          "metadata": {},
          "output_type": "execute_result"
        }
      ],
      "source": [
        "df.sample()"
      ]
    },
    {
      "cell_type": "markdown",
      "metadata": {
        "id": "PzV3f0wHBI3w"
      },
      "source": [
        "We can extract the exact city and remove all the excessive info from the geo column"
      ]
    },
    {
      "cell_type": "code",
      "execution_count": 10,
      "metadata": {
        "id": "p_YTKp0N0Ios"
      },
      "outputs": [],
      "source": [
        "def get_city(cell):\n",
        "    if len(cell.split(',')) > 1:\n",
        "        return cell.split(',')[0].strip()\n",
        "    elif \"Metropolitan\" in cell or \"Greater\" in cell:\n",
        "        return cell.replace('Greater', '').replace('Metropolitan', '').replace('Area', '').replace('Region','').strip()\n",
        "    else:\n",
        "        return np.nan"
      ]
    },
    {
      "cell_type": "code",
      "execution_count": 11,
      "metadata": {
        "id": "xV_ji43L0Ivk"
      },
      "outputs": [],
      "source": [
        "df['city'] = df['geo'].apply(get_city)"
      ]
    },
    {
      "cell_type": "code",
      "execution_count": 12,
      "metadata": {
        "colab": {
          "base_uri": "https://localhost:8080/",
          "height": 81
        },
        "id": "Yb9md-Sr0IyN",
        "outputId": "303905c8-f6ca-4ff7-a592-cbe69da5be7f"
      },
      "outputs": [
        {
          "data": {
            "text/html": [
              "\n",
              "  <div id=\"df-0aba9a76-8ae5-4f09-b99a-1807801101ba\">\n",
              "    <div class=\"colab-df-container\">\n",
              "      <div>\n",
              "<style scoped>\n",
              "    .dataframe tbody tr th:only-of-type {\n",
              "        vertical-align: middle;\n",
              "    }\n",
              "\n",
              "    .dataframe tbody tr th {\n",
              "        vertical-align: top;\n",
              "    }\n",
              "\n",
              "    .dataframe thead th {\n",
              "        text-align: right;\n",
              "    }\n",
              "</style>\n",
              "<table border=\"1\" class=\"dataframe\">\n",
              "  <thead>\n",
              "    <tr style=\"text-align: right;\">\n",
              "      <th></th>\n",
              "      <th>Unnamed: 0</th>\n",
              "      <th>html</th>\n",
              "      <th>title</th>\n",
              "      <th>geo</th>\n",
              "      <th>city</th>\n",
              "    </tr>\n",
              "  </thead>\n",
              "  <tbody>\n",
              "    <tr>\n",
              "      <th>723</th>\n",
              "      <td>723</td>\n",
              "      <td>\\n  &lt;div&gt;\\n    &lt;div class=\"\\n        jobs-deta...</td>\n",
              "      <td>Backend Engineer - Personalization</td>\n",
              "      <td>Sweden</td>\n",
              "      <td>NaN</td>\n",
              "    </tr>\n",
              "  </tbody>\n",
              "</table>\n",
              "</div>\n",
              "      <button class=\"colab-df-convert\" onclick=\"convertToInteractive('df-0aba9a76-8ae5-4f09-b99a-1807801101ba')\"\n",
              "              title=\"Convert this dataframe to an interactive table.\"\n",
              "              style=\"display:none;\">\n",
              "        \n",
              "  <svg xmlns=\"http://www.w3.org/2000/svg\" height=\"24px\"viewBox=\"0 0 24 24\"\n",
              "       width=\"24px\">\n",
              "    <path d=\"M0 0h24v24H0V0z\" fill=\"none\"/>\n",
              "    <path d=\"M18.56 5.44l.94 2.06.94-2.06 2.06-.94-2.06-.94-.94-2.06-.94 2.06-2.06.94zm-11 1L8.5 8.5l.94-2.06 2.06-.94-2.06-.94L8.5 2.5l-.94 2.06-2.06.94zm10 10l.94 2.06.94-2.06 2.06-.94-2.06-.94-.94-2.06-.94 2.06-2.06.94z\"/><path d=\"M17.41 7.96l-1.37-1.37c-.4-.4-.92-.59-1.43-.59-.52 0-1.04.2-1.43.59L10.3 9.45l-7.72 7.72c-.78.78-.78 2.05 0 2.83L4 21.41c.39.39.9.59 1.41.59.51 0 1.02-.2 1.41-.59l7.78-7.78 2.81-2.81c.8-.78.8-2.07 0-2.86zM5.41 20L4 18.59l7.72-7.72 1.47 1.35L5.41 20z\"/>\n",
              "  </svg>\n",
              "      </button>\n",
              "      \n",
              "  <style>\n",
              "    .colab-df-container {\n",
              "      display:flex;\n",
              "      flex-wrap:wrap;\n",
              "      gap: 12px;\n",
              "    }\n",
              "\n",
              "    .colab-df-convert {\n",
              "      background-color: #E8F0FE;\n",
              "      border: none;\n",
              "      border-radius: 50%;\n",
              "      cursor: pointer;\n",
              "      display: none;\n",
              "      fill: #1967D2;\n",
              "      height: 32px;\n",
              "      padding: 0 0 0 0;\n",
              "      width: 32px;\n",
              "    }\n",
              "\n",
              "    .colab-df-convert:hover {\n",
              "      background-color: #E2EBFA;\n",
              "      box-shadow: 0px 1px 2px rgba(60, 64, 67, 0.3), 0px 1px 3px 1px rgba(60, 64, 67, 0.15);\n",
              "      fill: #174EA6;\n",
              "    }\n",
              "\n",
              "    [theme=dark] .colab-df-convert {\n",
              "      background-color: #3B4455;\n",
              "      fill: #D2E3FC;\n",
              "    }\n",
              "\n",
              "    [theme=dark] .colab-df-convert:hover {\n",
              "      background-color: #434B5C;\n",
              "      box-shadow: 0px 1px 3px 1px rgba(0, 0, 0, 0.15);\n",
              "      filter: drop-shadow(0px 1px 2px rgba(0, 0, 0, 0.3));\n",
              "      fill: #FFFFFF;\n",
              "    }\n",
              "  </style>\n",
              "\n",
              "      <script>\n",
              "        const buttonEl =\n",
              "          document.querySelector('#df-0aba9a76-8ae5-4f09-b99a-1807801101ba button.colab-df-convert');\n",
              "        buttonEl.style.display =\n",
              "          google.colab.kernel.accessAllowed ? 'block' : 'none';\n",
              "\n",
              "        async function convertToInteractive(key) {\n",
              "          const element = document.querySelector('#df-0aba9a76-8ae5-4f09-b99a-1807801101ba');\n",
              "          const dataTable =\n",
              "            await google.colab.kernel.invokeFunction('convertToInteractive',\n",
              "                                                     [key], {});\n",
              "          if (!dataTable) return;\n",
              "\n",
              "          const docLinkHtml = 'Like what you see? Visit the ' +\n",
              "            '<a target=\"_blank\" href=https://colab.research.google.com/notebooks/data_table.ipynb>data table notebook</a>'\n",
              "            + ' to learn more about interactive tables.';\n",
              "          element.innerHTML = '';\n",
              "          dataTable['output_type'] = 'display_data';\n",
              "          await google.colab.output.renderOutput(dataTable, element);\n",
              "          const docLink = document.createElement('div');\n",
              "          docLink.innerHTML = docLinkHtml;\n",
              "          element.appendChild(docLink);\n",
              "        }\n",
              "      </script>\n",
              "    </div>\n",
              "  </div>\n",
              "  "
            ],
            "text/plain": [
              "     Unnamed: 0                                               html  \\\n",
              "723         723  \\n  <div>\\n    <div class=\"\\n        jobs-deta...   \n",
              "\n",
              "                                  title     geo city  \n",
              "723  Backend Engineer - Personalization  Sweden  NaN  "
            ]
          },
          "execution_count": 12,
          "metadata": {},
          "output_type": "execute_result"
        }
      ],
      "source": [
        "df.sample()"
      ]
    },
    {
      "cell_type": "markdown",
      "metadata": {
        "id": "4PAYZlTxBqXP"
      },
      "source": [
        "Same thing, we can extract the exact country. "
      ]
    },
    {
      "cell_type": "code",
      "execution_count": 13,
      "metadata": {
        "id": "rYynSuyo0I4D"
      },
      "outputs": [],
      "source": [
        "def get_country(cell):\n",
        "    if len(cell.split(',')) > 1:\n",
        "        return cell.split(',')[-1].strip()\n",
        "    elif \"Metropolitan\" in cell or \"Greater\" in cell or \"Region\" in cell:\n",
        "        return np.nan\n",
        "    else:\n",
        "        return cell"
      ]
    },
    {
      "cell_type": "code",
      "execution_count": 14,
      "metadata": {
        "id": "0Oi2AfXR0Xpj"
      },
      "outputs": [],
      "source": [
        "df['country'] = df['geo'].apply(get_country)"
      ]
    },
    {
      "cell_type": "code",
      "execution_count": 15,
      "metadata": {
        "colab": {
          "base_uri": "https://localhost:8080/",
          "height": 81
        },
        "id": "NCPpushY0Zbn",
        "outputId": "bab0776d-b30e-4c24-d98c-ea50d03e4971"
      },
      "outputs": [
        {
          "data": {
            "text/html": [
              "\n",
              "  <div id=\"df-ddaa2a04-0b8b-4838-b592-aa73f2fc259c\">\n",
              "    <div class=\"colab-df-container\">\n",
              "      <div>\n",
              "<style scoped>\n",
              "    .dataframe tbody tr th:only-of-type {\n",
              "        vertical-align: middle;\n",
              "    }\n",
              "\n",
              "    .dataframe tbody tr th {\n",
              "        vertical-align: top;\n",
              "    }\n",
              "\n",
              "    .dataframe thead th {\n",
              "        text-align: right;\n",
              "    }\n",
              "</style>\n",
              "<table border=\"1\" class=\"dataframe\">\n",
              "  <thead>\n",
              "    <tr style=\"text-align: right;\">\n",
              "      <th></th>\n",
              "      <th>Unnamed: 0</th>\n",
              "      <th>html</th>\n",
              "      <th>title</th>\n",
              "      <th>geo</th>\n",
              "      <th>city</th>\n",
              "      <th>country</th>\n",
              "    </tr>\n",
              "  </thead>\n",
              "  <tbody>\n",
              "    <tr>\n",
              "      <th>614</th>\n",
              "      <td>614</td>\n",
              "      <td>\\n  &lt;div&gt;\\n    &lt;div class=\"\\n        jobs-deta...</td>\n",
              "      <td>Ing. Elettronico/Data Analyst</td>\n",
              "      <td>Rome, Latium, Italy</td>\n",
              "      <td>Rome</td>\n",
              "      <td>Italy</td>\n",
              "    </tr>\n",
              "  </tbody>\n",
              "</table>\n",
              "</div>\n",
              "      <button class=\"colab-df-convert\" onclick=\"convertToInteractive('df-ddaa2a04-0b8b-4838-b592-aa73f2fc259c')\"\n",
              "              title=\"Convert this dataframe to an interactive table.\"\n",
              "              style=\"display:none;\">\n",
              "        \n",
              "  <svg xmlns=\"http://www.w3.org/2000/svg\" height=\"24px\"viewBox=\"0 0 24 24\"\n",
              "       width=\"24px\">\n",
              "    <path d=\"M0 0h24v24H0V0z\" fill=\"none\"/>\n",
              "    <path d=\"M18.56 5.44l.94 2.06.94-2.06 2.06-.94-2.06-.94-.94-2.06-.94 2.06-2.06.94zm-11 1L8.5 8.5l.94-2.06 2.06-.94-2.06-.94L8.5 2.5l-.94 2.06-2.06.94zm10 10l.94 2.06.94-2.06 2.06-.94-2.06-.94-.94-2.06-.94 2.06-2.06.94z\"/><path d=\"M17.41 7.96l-1.37-1.37c-.4-.4-.92-.59-1.43-.59-.52 0-1.04.2-1.43.59L10.3 9.45l-7.72 7.72c-.78.78-.78 2.05 0 2.83L4 21.41c.39.39.9.59 1.41.59.51 0 1.02-.2 1.41-.59l7.78-7.78 2.81-2.81c.8-.78.8-2.07 0-2.86zM5.41 20L4 18.59l7.72-7.72 1.47 1.35L5.41 20z\"/>\n",
              "  </svg>\n",
              "      </button>\n",
              "      \n",
              "  <style>\n",
              "    .colab-df-container {\n",
              "      display:flex;\n",
              "      flex-wrap:wrap;\n",
              "      gap: 12px;\n",
              "    }\n",
              "\n",
              "    .colab-df-convert {\n",
              "      background-color: #E8F0FE;\n",
              "      border: none;\n",
              "      border-radius: 50%;\n",
              "      cursor: pointer;\n",
              "      display: none;\n",
              "      fill: #1967D2;\n",
              "      height: 32px;\n",
              "      padding: 0 0 0 0;\n",
              "      width: 32px;\n",
              "    }\n",
              "\n",
              "    .colab-df-convert:hover {\n",
              "      background-color: #E2EBFA;\n",
              "      box-shadow: 0px 1px 2px rgba(60, 64, 67, 0.3), 0px 1px 3px 1px rgba(60, 64, 67, 0.15);\n",
              "      fill: #174EA6;\n",
              "    }\n",
              "\n",
              "    [theme=dark] .colab-df-convert {\n",
              "      background-color: #3B4455;\n",
              "      fill: #D2E3FC;\n",
              "    }\n",
              "\n",
              "    [theme=dark] .colab-df-convert:hover {\n",
              "      background-color: #434B5C;\n",
              "      box-shadow: 0px 1px 3px 1px rgba(0, 0, 0, 0.15);\n",
              "      filter: drop-shadow(0px 1px 2px rgba(0, 0, 0, 0.3));\n",
              "      fill: #FFFFFF;\n",
              "    }\n",
              "  </style>\n",
              "\n",
              "      <script>\n",
              "        const buttonEl =\n",
              "          document.querySelector('#df-ddaa2a04-0b8b-4838-b592-aa73f2fc259c button.colab-df-convert');\n",
              "        buttonEl.style.display =\n",
              "          google.colab.kernel.accessAllowed ? 'block' : 'none';\n",
              "\n",
              "        async function convertToInteractive(key) {\n",
              "          const element = document.querySelector('#df-ddaa2a04-0b8b-4838-b592-aa73f2fc259c');\n",
              "          const dataTable =\n",
              "            await google.colab.kernel.invokeFunction('convertToInteractive',\n",
              "                                                     [key], {});\n",
              "          if (!dataTable) return;\n",
              "\n",
              "          const docLinkHtml = 'Like what you see? Visit the ' +\n",
              "            '<a target=\"_blank\" href=https://colab.research.google.com/notebooks/data_table.ipynb>data table notebook</a>'\n",
              "            + ' to learn more about interactive tables.';\n",
              "          element.innerHTML = '';\n",
              "          dataTable['output_type'] = 'display_data';\n",
              "          await google.colab.output.renderOutput(dataTable, element);\n",
              "          const docLink = document.createElement('div');\n",
              "          docLink.innerHTML = docLinkHtml;\n",
              "          element.appendChild(docLink);\n",
              "        }\n",
              "      </script>\n",
              "    </div>\n",
              "  </div>\n",
              "  "
            ],
            "text/plain": [
              "     Unnamed: 0                                               html  \\\n",
              "614         614  \\n  <div>\\n    <div class=\"\\n        jobs-deta...   \n",
              "\n",
              "                             title                  geo  city country  \n",
              "614  Ing. Elettronico/Data Analyst  Rome, Latium, Italy  Rome   Italy  "
            ]
          },
          "execution_count": 15,
          "metadata": {},
          "output_type": "execute_result"
        }
      ],
      "source": [
        "df.sample()"
      ]
    },
    {
      "cell_type": "markdown",
      "metadata": {
        "id": "c_-dGjfUB8hA"
      },
      "source": [
        "Similarly, we can find job types."
      ]
    },
    {
      "cell_type": "code",
      "execution_count": 16,
      "metadata": {
        "id": "_YVtmUOC2Eaj"
      },
      "outputs": [],
      "source": [
        "def get_job_type(cell):\n",
        "    try:\n",
        "        return BeautifulSoup(cell).find('span', class_ = 'jobs-unified-top-card__workplace-type').text.strip()\n",
        "    except:\n",
        "        return np.nan "
      ]
    },
    {
      "cell_type": "code",
      "execution_count": 17,
      "metadata": {
        "id": "hSkfEIHc2Ehp"
      },
      "outputs": [],
      "source": [
        "df['job_type'] = df['html'].apply(get_job_type)"
      ]
    },
    {
      "cell_type": "code",
      "execution_count": 18,
      "metadata": {
        "colab": {
          "base_uri": "https://localhost:8080/",
          "height": 81
        },
        "id": "o-ZlVlBU2Ekc",
        "outputId": "7466751e-fb77-4c0e-d18b-e30461c9e669"
      },
      "outputs": [
        {
          "data": {
            "text/html": [
              "\n",
              "  <div id=\"df-4ec0df96-3c9d-44fa-9426-35ad5ff497d0\">\n",
              "    <div class=\"colab-df-container\">\n",
              "      <div>\n",
              "<style scoped>\n",
              "    .dataframe tbody tr th:only-of-type {\n",
              "        vertical-align: middle;\n",
              "    }\n",
              "\n",
              "    .dataframe tbody tr th {\n",
              "        vertical-align: top;\n",
              "    }\n",
              "\n",
              "    .dataframe thead th {\n",
              "        text-align: right;\n",
              "    }\n",
              "</style>\n",
              "<table border=\"1\" class=\"dataframe\">\n",
              "  <thead>\n",
              "    <tr style=\"text-align: right;\">\n",
              "      <th></th>\n",
              "      <th>Unnamed: 0</th>\n",
              "      <th>html</th>\n",
              "      <th>title</th>\n",
              "      <th>geo</th>\n",
              "      <th>city</th>\n",
              "      <th>country</th>\n",
              "      <th>job_type</th>\n",
              "    </tr>\n",
              "  </thead>\n",
              "  <tbody>\n",
              "    <tr>\n",
              "      <th>487</th>\n",
              "      <td>487</td>\n",
              "      <td>\\n  &lt;div&gt;\\n    &lt;div class=\"\\n        jobs-deta...</td>\n",
              "      <td>Software Engineer - Application Frameworks and...</td>\n",
              "      <td>Dublin, County Dublin, Ireland</td>\n",
              "      <td>Dublin</td>\n",
              "      <td>Ireland</td>\n",
              "      <td>Hybrid</td>\n",
              "    </tr>\n",
              "  </tbody>\n",
              "</table>\n",
              "</div>\n",
              "      <button class=\"colab-df-convert\" onclick=\"convertToInteractive('df-4ec0df96-3c9d-44fa-9426-35ad5ff497d0')\"\n",
              "              title=\"Convert this dataframe to an interactive table.\"\n",
              "              style=\"display:none;\">\n",
              "        \n",
              "  <svg xmlns=\"http://www.w3.org/2000/svg\" height=\"24px\"viewBox=\"0 0 24 24\"\n",
              "       width=\"24px\">\n",
              "    <path d=\"M0 0h24v24H0V0z\" fill=\"none\"/>\n",
              "    <path d=\"M18.56 5.44l.94 2.06.94-2.06 2.06-.94-2.06-.94-.94-2.06-.94 2.06-2.06.94zm-11 1L8.5 8.5l.94-2.06 2.06-.94-2.06-.94L8.5 2.5l-.94 2.06-2.06.94zm10 10l.94 2.06.94-2.06 2.06-.94-2.06-.94-.94-2.06-.94 2.06-2.06.94z\"/><path d=\"M17.41 7.96l-1.37-1.37c-.4-.4-.92-.59-1.43-.59-.52 0-1.04.2-1.43.59L10.3 9.45l-7.72 7.72c-.78.78-.78 2.05 0 2.83L4 21.41c.39.39.9.59 1.41.59.51 0 1.02-.2 1.41-.59l7.78-7.78 2.81-2.81c.8-.78.8-2.07 0-2.86zM5.41 20L4 18.59l7.72-7.72 1.47 1.35L5.41 20z\"/>\n",
              "  </svg>\n",
              "      </button>\n",
              "      \n",
              "  <style>\n",
              "    .colab-df-container {\n",
              "      display:flex;\n",
              "      flex-wrap:wrap;\n",
              "      gap: 12px;\n",
              "    }\n",
              "\n",
              "    .colab-df-convert {\n",
              "      background-color: #E8F0FE;\n",
              "      border: none;\n",
              "      border-radius: 50%;\n",
              "      cursor: pointer;\n",
              "      display: none;\n",
              "      fill: #1967D2;\n",
              "      height: 32px;\n",
              "      padding: 0 0 0 0;\n",
              "      width: 32px;\n",
              "    }\n",
              "\n",
              "    .colab-df-convert:hover {\n",
              "      background-color: #E2EBFA;\n",
              "      box-shadow: 0px 1px 2px rgba(60, 64, 67, 0.3), 0px 1px 3px 1px rgba(60, 64, 67, 0.15);\n",
              "      fill: #174EA6;\n",
              "    }\n",
              "\n",
              "    [theme=dark] .colab-df-convert {\n",
              "      background-color: #3B4455;\n",
              "      fill: #D2E3FC;\n",
              "    }\n",
              "\n",
              "    [theme=dark] .colab-df-convert:hover {\n",
              "      background-color: #434B5C;\n",
              "      box-shadow: 0px 1px 3px 1px rgba(0, 0, 0, 0.15);\n",
              "      filter: drop-shadow(0px 1px 2px rgba(0, 0, 0, 0.3));\n",
              "      fill: #FFFFFF;\n",
              "    }\n",
              "  </style>\n",
              "\n",
              "      <script>\n",
              "        const buttonEl =\n",
              "          document.querySelector('#df-4ec0df96-3c9d-44fa-9426-35ad5ff497d0 button.colab-df-convert');\n",
              "        buttonEl.style.display =\n",
              "          google.colab.kernel.accessAllowed ? 'block' : 'none';\n",
              "\n",
              "        async function convertToInteractive(key) {\n",
              "          const element = document.querySelector('#df-4ec0df96-3c9d-44fa-9426-35ad5ff497d0');\n",
              "          const dataTable =\n",
              "            await google.colab.kernel.invokeFunction('convertToInteractive',\n",
              "                                                     [key], {});\n",
              "          if (!dataTable) return;\n",
              "\n",
              "          const docLinkHtml = 'Like what you see? Visit the ' +\n",
              "            '<a target=\"_blank\" href=https://colab.research.google.com/notebooks/data_table.ipynb>data table notebook</a>'\n",
              "            + ' to learn more about interactive tables.';\n",
              "          element.innerHTML = '';\n",
              "          dataTable['output_type'] = 'display_data';\n",
              "          await google.colab.output.renderOutput(dataTable, element);\n",
              "          const docLink = document.createElement('div');\n",
              "          docLink.innerHTML = docLinkHtml;\n",
              "          element.appendChild(docLink);\n",
              "        }\n",
              "      </script>\n",
              "    </div>\n",
              "  </div>\n",
              "  "
            ],
            "text/plain": [
              "     Unnamed: 0                                               html  \\\n",
              "487         487  \\n  <div>\\n    <div class=\"\\n        jobs-deta...   \n",
              "\n",
              "                                                 title  \\\n",
              "487  Software Engineer - Application Frameworks and...   \n",
              "\n",
              "                                geo    city  country job_type  \n",
              "487  Dublin, County Dublin, Ireland  Dublin  Ireland   Hybrid  "
            ]
          },
          "execution_count": 18,
          "metadata": {},
          "output_type": "execute_result"
        }
      ],
      "source": [
        "df.sample()"
      ]
    },
    {
      "cell_type": "markdown",
      "metadata": {
        "id": "nBGY7YvaDE7X"
      },
      "source": [
        "...and company names"
      ]
    },
    {
      "cell_type": "code",
      "execution_count": 19,
      "metadata": {
        "id": "H-RufMCX2EnH"
      },
      "outputs": [],
      "source": [
        "def get_company_name(cell):\n",
        "    try:\n",
        "        return BeautifulSoup(cell).find('span', class_ = 'jobs-unified-top-card__company-name').text.strip()\n",
        "    except:\n",
        "        return np.nan  "
      ]
    },
    {
      "cell_type": "code",
      "execution_count": 20,
      "metadata": {
        "id": "3Vd1spUg5WLY"
      },
      "outputs": [],
      "source": [
        "df['company_name'] = df['html'].apply(get_company_name)"
      ]
    },
    {
      "cell_type": "code",
      "execution_count": 21,
      "metadata": {
        "colab": {
          "base_uri": "https://localhost:8080/",
          "height": 81
        },
        "id": "YqJonZRw5Z0o",
        "outputId": "65d601f7-c96f-4661-fb1c-6669bdcc7ad5"
      },
      "outputs": [
        {
          "data": {
            "text/html": [
              "\n",
              "  <div id=\"df-7b70d9cb-19c2-4acd-bb5c-9f6495ddfee3\">\n",
              "    <div class=\"colab-df-container\">\n",
              "      <div>\n",
              "<style scoped>\n",
              "    .dataframe tbody tr th:only-of-type {\n",
              "        vertical-align: middle;\n",
              "    }\n",
              "\n",
              "    .dataframe tbody tr th {\n",
              "        vertical-align: top;\n",
              "    }\n",
              "\n",
              "    .dataframe thead th {\n",
              "        text-align: right;\n",
              "    }\n",
              "</style>\n",
              "<table border=\"1\" class=\"dataframe\">\n",
              "  <thead>\n",
              "    <tr style=\"text-align: right;\">\n",
              "      <th></th>\n",
              "      <th>Unnamed: 0</th>\n",
              "      <th>html</th>\n",
              "      <th>title</th>\n",
              "      <th>geo</th>\n",
              "      <th>city</th>\n",
              "      <th>country</th>\n",
              "      <th>job_type</th>\n",
              "      <th>company_name</th>\n",
              "    </tr>\n",
              "  </thead>\n",
              "  <tbody>\n",
              "    <tr>\n",
              "      <th>284</th>\n",
              "      <td>284</td>\n",
              "      <td>\\n  &lt;div&gt;\\n    &lt;div class=\"\\n        jobs-deta...</td>\n",
              "      <td>Data Internet Analyst</td>\n",
              "      <td>Kortrijk Metropolitan Area</td>\n",
              "      <td>Kortrijk</td>\n",
              "      <td>NaN</td>\n",
              "      <td>Remote</td>\n",
              "      <td>Appen</td>\n",
              "    </tr>\n",
              "  </tbody>\n",
              "</table>\n",
              "</div>\n",
              "      <button class=\"colab-df-convert\" onclick=\"convertToInteractive('df-7b70d9cb-19c2-4acd-bb5c-9f6495ddfee3')\"\n",
              "              title=\"Convert this dataframe to an interactive table.\"\n",
              "              style=\"display:none;\">\n",
              "        \n",
              "  <svg xmlns=\"http://www.w3.org/2000/svg\" height=\"24px\"viewBox=\"0 0 24 24\"\n",
              "       width=\"24px\">\n",
              "    <path d=\"M0 0h24v24H0V0z\" fill=\"none\"/>\n",
              "    <path d=\"M18.56 5.44l.94 2.06.94-2.06 2.06-.94-2.06-.94-.94-2.06-.94 2.06-2.06.94zm-11 1L8.5 8.5l.94-2.06 2.06-.94-2.06-.94L8.5 2.5l-.94 2.06-2.06.94zm10 10l.94 2.06.94-2.06 2.06-.94-2.06-.94-.94-2.06-.94 2.06-2.06.94z\"/><path d=\"M17.41 7.96l-1.37-1.37c-.4-.4-.92-.59-1.43-.59-.52 0-1.04.2-1.43.59L10.3 9.45l-7.72 7.72c-.78.78-.78 2.05 0 2.83L4 21.41c.39.39.9.59 1.41.59.51 0 1.02-.2 1.41-.59l7.78-7.78 2.81-2.81c.8-.78.8-2.07 0-2.86zM5.41 20L4 18.59l7.72-7.72 1.47 1.35L5.41 20z\"/>\n",
              "  </svg>\n",
              "      </button>\n",
              "      \n",
              "  <style>\n",
              "    .colab-df-container {\n",
              "      display:flex;\n",
              "      flex-wrap:wrap;\n",
              "      gap: 12px;\n",
              "    }\n",
              "\n",
              "    .colab-df-convert {\n",
              "      background-color: #E8F0FE;\n",
              "      border: none;\n",
              "      border-radius: 50%;\n",
              "      cursor: pointer;\n",
              "      display: none;\n",
              "      fill: #1967D2;\n",
              "      height: 32px;\n",
              "      padding: 0 0 0 0;\n",
              "      width: 32px;\n",
              "    }\n",
              "\n",
              "    .colab-df-convert:hover {\n",
              "      background-color: #E2EBFA;\n",
              "      box-shadow: 0px 1px 2px rgba(60, 64, 67, 0.3), 0px 1px 3px 1px rgba(60, 64, 67, 0.15);\n",
              "      fill: #174EA6;\n",
              "    }\n",
              "\n",
              "    [theme=dark] .colab-df-convert {\n",
              "      background-color: #3B4455;\n",
              "      fill: #D2E3FC;\n",
              "    }\n",
              "\n",
              "    [theme=dark] .colab-df-convert:hover {\n",
              "      background-color: #434B5C;\n",
              "      box-shadow: 0px 1px 3px 1px rgba(0, 0, 0, 0.15);\n",
              "      filter: drop-shadow(0px 1px 2px rgba(0, 0, 0, 0.3));\n",
              "      fill: #FFFFFF;\n",
              "    }\n",
              "  </style>\n",
              "\n",
              "      <script>\n",
              "        const buttonEl =\n",
              "          document.querySelector('#df-7b70d9cb-19c2-4acd-bb5c-9f6495ddfee3 button.colab-df-convert');\n",
              "        buttonEl.style.display =\n",
              "          google.colab.kernel.accessAllowed ? 'block' : 'none';\n",
              "\n",
              "        async function convertToInteractive(key) {\n",
              "          const element = document.querySelector('#df-7b70d9cb-19c2-4acd-bb5c-9f6495ddfee3');\n",
              "          const dataTable =\n",
              "            await google.colab.kernel.invokeFunction('convertToInteractive',\n",
              "                                                     [key], {});\n",
              "          if (!dataTable) return;\n",
              "\n",
              "          const docLinkHtml = 'Like what you see? Visit the ' +\n",
              "            '<a target=\"_blank\" href=https://colab.research.google.com/notebooks/data_table.ipynb>data table notebook</a>'\n",
              "            + ' to learn more about interactive tables.';\n",
              "          element.innerHTML = '';\n",
              "          dataTable['output_type'] = 'display_data';\n",
              "          await google.colab.output.renderOutput(dataTable, element);\n",
              "          const docLink = document.createElement('div');\n",
              "          docLink.innerHTML = docLinkHtml;\n",
              "          element.appendChild(docLink);\n",
              "        }\n",
              "      </script>\n",
              "    </div>\n",
              "  </div>\n",
              "  "
            ],
            "text/plain": [
              "     Unnamed: 0                                               html  \\\n",
              "284         284  \\n  <div>\\n    <div class=\"\\n        jobs-deta...   \n",
              "\n",
              "                     title                         geo      city country  \\\n",
              "284  Data Internet Analyst  Kortrijk Metropolitan Area  Kortrijk     NaN   \n",
              "\n",
              "    job_type company_name  \n",
              "284   Remote        Appen  "
            ]
          },
          "execution_count": 21,
          "metadata": {},
          "output_type": "execute_result"
        }
      ],
      "source": [
        "df.sample()"
      ]
    },
    {
      "cell_type": "markdown",
      "metadata": {
        "id": "QaXQj0YEDLrd"
      },
      "source": [
        "...and number of employees working for these companies."
      ]
    },
    {
      "cell_type": "code",
      "execution_count": 22,
      "metadata": {
        "id": "T-NsCqYA5ePj"
      },
      "outputs": [],
      "source": [
        "def get_employee_number(cell):\n",
        "    try:\n",
        "        return BeautifulSoup(cell).find('div', class_= 'mt5 mb2').find_all('li')[1].text.strip().split(' · ')[0].strip().split(' ')[0].strip()\n",
        "    except:\n",
        "        return np.nan  "
      ]
    },
    {
      "cell_type": "code",
      "execution_count": 23,
      "metadata": {
        "id": "umYg5WUZ5eWj"
      },
      "outputs": [],
      "source": [
        "df['employee_number'] = df['html'].apply(get_employee_number)"
      ]
    },
    {
      "cell_type": "code",
      "execution_count": 24,
      "metadata": {
        "colab": {
          "base_uri": "https://localhost:8080/",
          "height": 81
        },
        "id": "FXWuvV8v5eZd",
        "outputId": "96f547a2-f774-4e52-9bb2-ac85367a7ae3"
      },
      "outputs": [
        {
          "data": {
            "text/html": [
              "\n",
              "  <div id=\"df-7481cc45-1acc-46de-b56e-19a0b4e45837\">\n",
              "    <div class=\"colab-df-container\">\n",
              "      <div>\n",
              "<style scoped>\n",
              "    .dataframe tbody tr th:only-of-type {\n",
              "        vertical-align: middle;\n",
              "    }\n",
              "\n",
              "    .dataframe tbody tr th {\n",
              "        vertical-align: top;\n",
              "    }\n",
              "\n",
              "    .dataframe thead th {\n",
              "        text-align: right;\n",
              "    }\n",
              "</style>\n",
              "<table border=\"1\" class=\"dataframe\">\n",
              "  <thead>\n",
              "    <tr style=\"text-align: right;\">\n",
              "      <th></th>\n",
              "      <th>Unnamed: 0</th>\n",
              "      <th>html</th>\n",
              "      <th>title</th>\n",
              "      <th>geo</th>\n",
              "      <th>city</th>\n",
              "      <th>country</th>\n",
              "      <th>job_type</th>\n",
              "      <th>company_name</th>\n",
              "      <th>employee_number</th>\n",
              "    </tr>\n",
              "  </thead>\n",
              "  <tbody>\n",
              "    <tr>\n",
              "      <th>133</th>\n",
              "      <td>133</td>\n",
              "      <td>\\n  &lt;div&gt;\\n    &lt;div class=\"\\n        jobs-deta...</td>\n",
              "      <td>Graduate Developer (J12998)</td>\n",
              "      <td>Albufeira, Faro, Portugal</td>\n",
              "      <td>Albufeira</td>\n",
              "      <td>Portugal</td>\n",
              "      <td>Remote</td>\n",
              "      <td>Pareto</td>\n",
              "      <td>201-500</td>\n",
              "    </tr>\n",
              "  </tbody>\n",
              "</table>\n",
              "</div>\n",
              "      <button class=\"colab-df-convert\" onclick=\"convertToInteractive('df-7481cc45-1acc-46de-b56e-19a0b4e45837')\"\n",
              "              title=\"Convert this dataframe to an interactive table.\"\n",
              "              style=\"display:none;\">\n",
              "        \n",
              "  <svg xmlns=\"http://www.w3.org/2000/svg\" height=\"24px\"viewBox=\"0 0 24 24\"\n",
              "       width=\"24px\">\n",
              "    <path d=\"M0 0h24v24H0V0z\" fill=\"none\"/>\n",
              "    <path d=\"M18.56 5.44l.94 2.06.94-2.06 2.06-.94-2.06-.94-.94-2.06-.94 2.06-2.06.94zm-11 1L8.5 8.5l.94-2.06 2.06-.94-2.06-.94L8.5 2.5l-.94 2.06-2.06.94zm10 10l.94 2.06.94-2.06 2.06-.94-2.06-.94-.94-2.06-.94 2.06-2.06.94z\"/><path d=\"M17.41 7.96l-1.37-1.37c-.4-.4-.92-.59-1.43-.59-.52 0-1.04.2-1.43.59L10.3 9.45l-7.72 7.72c-.78.78-.78 2.05 0 2.83L4 21.41c.39.39.9.59 1.41.59.51 0 1.02-.2 1.41-.59l7.78-7.78 2.81-2.81c.8-.78.8-2.07 0-2.86zM5.41 20L4 18.59l7.72-7.72 1.47 1.35L5.41 20z\"/>\n",
              "  </svg>\n",
              "      </button>\n",
              "      \n",
              "  <style>\n",
              "    .colab-df-container {\n",
              "      display:flex;\n",
              "      flex-wrap:wrap;\n",
              "      gap: 12px;\n",
              "    }\n",
              "\n",
              "    .colab-df-convert {\n",
              "      background-color: #E8F0FE;\n",
              "      border: none;\n",
              "      border-radius: 50%;\n",
              "      cursor: pointer;\n",
              "      display: none;\n",
              "      fill: #1967D2;\n",
              "      height: 32px;\n",
              "      padding: 0 0 0 0;\n",
              "      width: 32px;\n",
              "    }\n",
              "\n",
              "    .colab-df-convert:hover {\n",
              "      background-color: #E2EBFA;\n",
              "      box-shadow: 0px 1px 2px rgba(60, 64, 67, 0.3), 0px 1px 3px 1px rgba(60, 64, 67, 0.15);\n",
              "      fill: #174EA6;\n",
              "    }\n",
              "\n",
              "    [theme=dark] .colab-df-convert {\n",
              "      background-color: #3B4455;\n",
              "      fill: #D2E3FC;\n",
              "    }\n",
              "\n",
              "    [theme=dark] .colab-df-convert:hover {\n",
              "      background-color: #434B5C;\n",
              "      box-shadow: 0px 1px 3px 1px rgba(0, 0, 0, 0.15);\n",
              "      filter: drop-shadow(0px 1px 2px rgba(0, 0, 0, 0.3));\n",
              "      fill: #FFFFFF;\n",
              "    }\n",
              "  </style>\n",
              "\n",
              "      <script>\n",
              "        const buttonEl =\n",
              "          document.querySelector('#df-7481cc45-1acc-46de-b56e-19a0b4e45837 button.colab-df-convert');\n",
              "        buttonEl.style.display =\n",
              "          google.colab.kernel.accessAllowed ? 'block' : 'none';\n",
              "\n",
              "        async function convertToInteractive(key) {\n",
              "          const element = document.querySelector('#df-7481cc45-1acc-46de-b56e-19a0b4e45837');\n",
              "          const dataTable =\n",
              "            await google.colab.kernel.invokeFunction('convertToInteractive',\n",
              "                                                     [key], {});\n",
              "          if (!dataTable) return;\n",
              "\n",
              "          const docLinkHtml = 'Like what you see? Visit the ' +\n",
              "            '<a target=\"_blank\" href=https://colab.research.google.com/notebooks/data_table.ipynb>data table notebook</a>'\n",
              "            + ' to learn more about interactive tables.';\n",
              "          element.innerHTML = '';\n",
              "          dataTable['output_type'] = 'display_data';\n",
              "          await google.colab.output.renderOutput(dataTable, element);\n",
              "          const docLink = document.createElement('div');\n",
              "          docLink.innerHTML = docLinkHtml;\n",
              "          element.appendChild(docLink);\n",
              "        }\n",
              "      </script>\n",
              "    </div>\n",
              "  </div>\n",
              "  "
            ],
            "text/plain": [
              "     Unnamed: 0                                               html  \\\n",
              "133         133  \\n  <div>\\n    <div class=\"\\n        jobs-deta...   \n",
              "\n",
              "                           title                        geo       city  \\\n",
              "133  Graduate Developer (J12998)  Albufeira, Faro, Portugal  Albufeira   \n",
              "\n",
              "      country job_type company_name employee_number  \n",
              "133  Portugal   Remote       Pareto         201-500  "
            ]
          },
          "execution_count": 24,
          "metadata": {},
          "output_type": "execute_result"
        }
      ],
      "source": [
        "df.sample()"
      ]
    },
    {
      "cell_type": "markdown",
      "metadata": {
        "id": "AGtsHp9UDrr0"
      },
      "source": [
        "...and number of candidates for the job."
      ]
    },
    {
      "cell_type": "code",
      "execution_count": 25,
      "metadata": {
        "id": "KfJ5SDby5ecP"
      },
      "outputs": [],
      "source": [
        "def get_candidates(cell):\n",
        "    try:\n",
        "        return BeautifulSoup(cell).find('span', class_ = 'jobs-unified-top-card__applicant-count').text.strip().split(' ')[0].strip()\n",
        "    except:\n",
        "        return np.nan"
      ]
    },
    {
      "cell_type": "code",
      "execution_count": 26,
      "metadata": {
        "id": "UomYnxI_BVGO"
      },
      "outputs": [],
      "source": [
        "df['candidates'] = df['html'].apply(get_candidates)"
      ]
    },
    {
      "cell_type": "code",
      "execution_count": 27,
      "metadata": {
        "colab": {
          "base_uri": "https://localhost:8080/",
          "height": 159
        },
        "id": "uH1KvmjEBXiX",
        "outputId": "a8c115ca-9e6f-43fb-cdf7-42a3257f5436"
      },
      "outputs": [
        {
          "data": {
            "text/html": [
              "\n",
              "  <div id=\"df-b93556ed-6162-4c11-aec0-bae2a4237e24\">\n",
              "    <div class=\"colab-df-container\">\n",
              "      <div>\n",
              "<style scoped>\n",
              "    .dataframe tbody tr th:only-of-type {\n",
              "        vertical-align: middle;\n",
              "    }\n",
              "\n",
              "    .dataframe tbody tr th {\n",
              "        vertical-align: top;\n",
              "    }\n",
              "\n",
              "    .dataframe thead th {\n",
              "        text-align: right;\n",
              "    }\n",
              "</style>\n",
              "<table border=\"1\" class=\"dataframe\">\n",
              "  <thead>\n",
              "    <tr style=\"text-align: right;\">\n",
              "      <th></th>\n",
              "      <th>Unnamed: 0</th>\n",
              "      <th>html</th>\n",
              "      <th>title</th>\n",
              "      <th>geo</th>\n",
              "      <th>city</th>\n",
              "      <th>country</th>\n",
              "      <th>job_type</th>\n",
              "      <th>company_name</th>\n",
              "      <th>employee_number</th>\n",
              "      <th>candidates</th>\n",
              "    </tr>\n",
              "  </thead>\n",
              "  <tbody>\n",
              "    <tr>\n",
              "      <th>227</th>\n",
              "      <td>227</td>\n",
              "      <td>\\n  &lt;div&gt;\\n    &lt;div class=\"\\n        jobs-deta...</td>\n",
              "      <td>Data Analyst with Spanish (shifts), Corporate ...</td>\n",
              "      <td>Gdynia, Pomorskie, Poland</td>\n",
              "      <td>Gdynia</td>\n",
              "      <td>Poland</td>\n",
              "      <td>Hybrid</td>\n",
              "      <td>LSEG (London Stock Exchange Group)</td>\n",
              "      <td>10,001+</td>\n",
              "      <td>3</td>\n",
              "    </tr>\n",
              "  </tbody>\n",
              "</table>\n",
              "</div>\n",
              "      <button class=\"colab-df-convert\" onclick=\"convertToInteractive('df-b93556ed-6162-4c11-aec0-bae2a4237e24')\"\n",
              "              title=\"Convert this dataframe to an interactive table.\"\n",
              "              style=\"display:none;\">\n",
              "        \n",
              "  <svg xmlns=\"http://www.w3.org/2000/svg\" height=\"24px\"viewBox=\"0 0 24 24\"\n",
              "       width=\"24px\">\n",
              "    <path d=\"M0 0h24v24H0V0z\" fill=\"none\"/>\n",
              "    <path d=\"M18.56 5.44l.94 2.06.94-2.06 2.06-.94-2.06-.94-.94-2.06-.94 2.06-2.06.94zm-11 1L8.5 8.5l.94-2.06 2.06-.94-2.06-.94L8.5 2.5l-.94 2.06-2.06.94zm10 10l.94 2.06.94-2.06 2.06-.94-2.06-.94-.94-2.06-.94 2.06-2.06.94z\"/><path d=\"M17.41 7.96l-1.37-1.37c-.4-.4-.92-.59-1.43-.59-.52 0-1.04.2-1.43.59L10.3 9.45l-7.72 7.72c-.78.78-.78 2.05 0 2.83L4 21.41c.39.39.9.59 1.41.59.51 0 1.02-.2 1.41-.59l7.78-7.78 2.81-2.81c.8-.78.8-2.07 0-2.86zM5.41 20L4 18.59l7.72-7.72 1.47 1.35L5.41 20z\"/>\n",
              "  </svg>\n",
              "      </button>\n",
              "      \n",
              "  <style>\n",
              "    .colab-df-container {\n",
              "      display:flex;\n",
              "      flex-wrap:wrap;\n",
              "      gap: 12px;\n",
              "    }\n",
              "\n",
              "    .colab-df-convert {\n",
              "      background-color: #E8F0FE;\n",
              "      border: none;\n",
              "      border-radius: 50%;\n",
              "      cursor: pointer;\n",
              "      display: none;\n",
              "      fill: #1967D2;\n",
              "      height: 32px;\n",
              "      padding: 0 0 0 0;\n",
              "      width: 32px;\n",
              "    }\n",
              "\n",
              "    .colab-df-convert:hover {\n",
              "      background-color: #E2EBFA;\n",
              "      box-shadow: 0px 1px 2px rgba(60, 64, 67, 0.3), 0px 1px 3px 1px rgba(60, 64, 67, 0.15);\n",
              "      fill: #174EA6;\n",
              "    }\n",
              "\n",
              "    [theme=dark] .colab-df-convert {\n",
              "      background-color: #3B4455;\n",
              "      fill: #D2E3FC;\n",
              "    }\n",
              "\n",
              "    [theme=dark] .colab-df-convert:hover {\n",
              "      background-color: #434B5C;\n",
              "      box-shadow: 0px 1px 3px 1px rgba(0, 0, 0, 0.15);\n",
              "      filter: drop-shadow(0px 1px 2px rgba(0, 0, 0, 0.3));\n",
              "      fill: #FFFFFF;\n",
              "    }\n",
              "  </style>\n",
              "\n",
              "      <script>\n",
              "        const buttonEl =\n",
              "          document.querySelector('#df-b93556ed-6162-4c11-aec0-bae2a4237e24 button.colab-df-convert');\n",
              "        buttonEl.style.display =\n",
              "          google.colab.kernel.accessAllowed ? 'block' : 'none';\n",
              "\n",
              "        async function convertToInteractive(key) {\n",
              "          const element = document.querySelector('#df-b93556ed-6162-4c11-aec0-bae2a4237e24');\n",
              "          const dataTable =\n",
              "            await google.colab.kernel.invokeFunction('convertToInteractive',\n",
              "                                                     [key], {});\n",
              "          if (!dataTable) return;\n",
              "\n",
              "          const docLinkHtml = 'Like what you see? Visit the ' +\n",
              "            '<a target=\"_blank\" href=https://colab.research.google.com/notebooks/data_table.ipynb>data table notebook</a>'\n",
              "            + ' to learn more about interactive tables.';\n",
              "          element.innerHTML = '';\n",
              "          dataTable['output_type'] = 'display_data';\n",
              "          await google.colab.output.renderOutput(dataTable, element);\n",
              "          const docLink = document.createElement('div');\n",
              "          docLink.innerHTML = docLinkHtml;\n",
              "          element.appendChild(docLink);\n",
              "        }\n",
              "      </script>\n",
              "    </div>\n",
              "  </div>\n",
              "  "
            ],
            "text/plain": [
              "     Unnamed: 0                                               html  \\\n",
              "227         227  \\n  <div>\\n    <div class=\"\\n        jobs-deta...   \n",
              "\n",
              "                                                 title  \\\n",
              "227  Data Analyst with Spanish (shifts), Corporate ...   \n",
              "\n",
              "                           geo    city country job_type  \\\n",
              "227  Gdynia, Pomorskie, Poland  Gdynia  Poland   Hybrid   \n",
              "\n",
              "                           company_name employee_number candidates  \n",
              "227  LSEG (London Stock Exchange Group)         10,001+          3  "
            ]
          },
          "execution_count": 27,
          "metadata": {},
          "output_type": "execute_result"
        }
      ],
      "source": [
        "df.sample()"
      ]
    },
    {
      "cell_type": "markdown",
      "metadata": {
        "id": "KuZGigCAEbAI"
      },
      "source": [
        "...and a company's field."
      ]
    },
    {
      "cell_type": "code",
      "execution_count": 28,
      "metadata": {
        "id": "I7JUHRuFBbKR"
      },
      "outputs": [],
      "source": [
        "def get_company_field(cell):\n",
        "    try:\n",
        "        return BeautifulSoup(cell).find('div', class_= 'mt5 mb2').find_all('li')[1].text.strip().split(' · ')[1].strip()\n",
        "    except:\n",
        "        return np.nan  "
      ]
    },
    {
      "cell_type": "code",
      "execution_count": 29,
      "metadata": {
        "id": "wScvtjJvKZVg"
      },
      "outputs": [],
      "source": [
        "df['company_field'] = df['html'].apply(get_company_field)"
      ]
    },
    {
      "cell_type": "code",
      "execution_count": 30,
      "metadata": {
        "colab": {
          "base_uri": "https://localhost:8080/",
          "height": 159
        },
        "id": "cQRLBXfvKm7s",
        "outputId": "480bf459-1c9a-4b85-c0a3-5b932a8934bd"
      },
      "outputs": [
        {
          "data": {
            "text/html": [
              "\n",
              "  <div id=\"df-5d9087b7-5651-453d-8ea5-d6bdaed0689b\">\n",
              "    <div class=\"colab-df-container\">\n",
              "      <div>\n",
              "<style scoped>\n",
              "    .dataframe tbody tr th:only-of-type {\n",
              "        vertical-align: middle;\n",
              "    }\n",
              "\n",
              "    .dataframe tbody tr th {\n",
              "        vertical-align: top;\n",
              "    }\n",
              "\n",
              "    .dataframe thead th {\n",
              "        text-align: right;\n",
              "    }\n",
              "</style>\n",
              "<table border=\"1\" class=\"dataframe\">\n",
              "  <thead>\n",
              "    <tr style=\"text-align: right;\">\n",
              "      <th></th>\n",
              "      <th>Unnamed: 0</th>\n",
              "      <th>html</th>\n",
              "      <th>title</th>\n",
              "      <th>geo</th>\n",
              "      <th>city</th>\n",
              "      <th>country</th>\n",
              "      <th>job_type</th>\n",
              "      <th>company_name</th>\n",
              "      <th>employee_number</th>\n",
              "      <th>candidates</th>\n",
              "      <th>company_field</th>\n",
              "    </tr>\n",
              "  </thead>\n",
              "  <tbody>\n",
              "    <tr>\n",
              "      <th>185</th>\n",
              "      <td>185</td>\n",
              "      <td>\\n  &lt;div&gt;\\n    &lt;div class=\"\\n        jobs-deta...</td>\n",
              "      <td>Data Development Analyst</td>\n",
              "      <td>Madrid, Community of Madrid, Spain</td>\n",
              "      <td>Madrid</td>\n",
              "      <td>Spain</td>\n",
              "      <td>On-site</td>\n",
              "      <td>Solera, Inc.</td>\n",
              "      <td>5,001-10,000</td>\n",
              "      <td>7</td>\n",
              "      <td>IT Services and IT Consulting</td>\n",
              "    </tr>\n",
              "  </tbody>\n",
              "</table>\n",
              "</div>\n",
              "      <button class=\"colab-df-convert\" onclick=\"convertToInteractive('df-5d9087b7-5651-453d-8ea5-d6bdaed0689b')\"\n",
              "              title=\"Convert this dataframe to an interactive table.\"\n",
              "              style=\"display:none;\">\n",
              "        \n",
              "  <svg xmlns=\"http://www.w3.org/2000/svg\" height=\"24px\"viewBox=\"0 0 24 24\"\n",
              "       width=\"24px\">\n",
              "    <path d=\"M0 0h24v24H0V0z\" fill=\"none\"/>\n",
              "    <path d=\"M18.56 5.44l.94 2.06.94-2.06 2.06-.94-2.06-.94-.94-2.06-.94 2.06-2.06.94zm-11 1L8.5 8.5l.94-2.06 2.06-.94-2.06-.94L8.5 2.5l-.94 2.06-2.06.94zm10 10l.94 2.06.94-2.06 2.06-.94-2.06-.94-.94-2.06-.94 2.06-2.06.94z\"/><path d=\"M17.41 7.96l-1.37-1.37c-.4-.4-.92-.59-1.43-.59-.52 0-1.04.2-1.43.59L10.3 9.45l-7.72 7.72c-.78.78-.78 2.05 0 2.83L4 21.41c.39.39.9.59 1.41.59.51 0 1.02-.2 1.41-.59l7.78-7.78 2.81-2.81c.8-.78.8-2.07 0-2.86zM5.41 20L4 18.59l7.72-7.72 1.47 1.35L5.41 20z\"/>\n",
              "  </svg>\n",
              "      </button>\n",
              "      \n",
              "  <style>\n",
              "    .colab-df-container {\n",
              "      display:flex;\n",
              "      flex-wrap:wrap;\n",
              "      gap: 12px;\n",
              "    }\n",
              "\n",
              "    .colab-df-convert {\n",
              "      background-color: #E8F0FE;\n",
              "      border: none;\n",
              "      border-radius: 50%;\n",
              "      cursor: pointer;\n",
              "      display: none;\n",
              "      fill: #1967D2;\n",
              "      height: 32px;\n",
              "      padding: 0 0 0 0;\n",
              "      width: 32px;\n",
              "    }\n",
              "\n",
              "    .colab-df-convert:hover {\n",
              "      background-color: #E2EBFA;\n",
              "      box-shadow: 0px 1px 2px rgba(60, 64, 67, 0.3), 0px 1px 3px 1px rgba(60, 64, 67, 0.15);\n",
              "      fill: #174EA6;\n",
              "    }\n",
              "\n",
              "    [theme=dark] .colab-df-convert {\n",
              "      background-color: #3B4455;\n",
              "      fill: #D2E3FC;\n",
              "    }\n",
              "\n",
              "    [theme=dark] .colab-df-convert:hover {\n",
              "      background-color: #434B5C;\n",
              "      box-shadow: 0px 1px 3px 1px rgba(0, 0, 0, 0.15);\n",
              "      filter: drop-shadow(0px 1px 2px rgba(0, 0, 0, 0.3));\n",
              "      fill: #FFFFFF;\n",
              "    }\n",
              "  </style>\n",
              "\n",
              "      <script>\n",
              "        const buttonEl =\n",
              "          document.querySelector('#df-5d9087b7-5651-453d-8ea5-d6bdaed0689b button.colab-df-convert');\n",
              "        buttonEl.style.display =\n",
              "          google.colab.kernel.accessAllowed ? 'block' : 'none';\n",
              "\n",
              "        async function convertToInteractive(key) {\n",
              "          const element = document.querySelector('#df-5d9087b7-5651-453d-8ea5-d6bdaed0689b');\n",
              "          const dataTable =\n",
              "            await google.colab.kernel.invokeFunction('convertToInteractive',\n",
              "                                                     [key], {});\n",
              "          if (!dataTable) return;\n",
              "\n",
              "          const docLinkHtml = 'Like what you see? Visit the ' +\n",
              "            '<a target=\"_blank\" href=https://colab.research.google.com/notebooks/data_table.ipynb>data table notebook</a>'\n",
              "            + ' to learn more about interactive tables.';\n",
              "          element.innerHTML = '';\n",
              "          dataTable['output_type'] = 'display_data';\n",
              "          await google.colab.output.renderOutput(dataTable, element);\n",
              "          const docLink = document.createElement('div');\n",
              "          docLink.innerHTML = docLinkHtml;\n",
              "          element.appendChild(docLink);\n",
              "        }\n",
              "      </script>\n",
              "    </div>\n",
              "  </div>\n",
              "  "
            ],
            "text/plain": [
              "     Unnamed: 0                                               html  \\\n",
              "185         185  \\n  <div>\\n    <div class=\"\\n        jobs-deta...   \n",
              "\n",
              "                        title                                 geo    city  \\\n",
              "185  Data Development Analyst  Madrid, Community of Madrid, Spain  Madrid   \n",
              "\n",
              "    country job_type  company_name employee_number candidates  \\\n",
              "185   Spain  On-site  Solera, Inc.    5,001-10,000          7   \n",
              "\n",
              "                     company_field  \n",
              "185  IT Services and IT Consulting  "
            ]
          },
          "execution_count": 30,
          "metadata": {},
          "output_type": "execute_result"
        }
      ],
      "source": [
        "df.sample()"
      ]
    },
    {
      "cell_type": "markdown",
      "metadata": {
        "id": "qw2XXYcKFBDo"
      },
      "source": [
        "To retrieve sets of skills we can use a ready-made list of Data Anlysts' skills."
      ]
    },
    {
      "cell_type": "code",
      "execution_count": 31,
      "metadata": {
        "id": "zEmIxQZnMH7E"
      },
      "outputs": [],
      "source": [
        "skills = (['datahub', 'api', 'github', 'google analytics', 'adobe analytics', 'ibm coremetrics', 'omniture'\n",
        "            'gitlab', 'erwin', 'hadoop', 'spark', 'hive'\n",
        "           'databricks', 'aws', 'gcp', 'azure','excel',\n",
        "            'redshift', 'bigquery', 'snowflake',  'hana'\n",
        "            'grafana', 'kantar', 'spss', \n",
        "           'asana', 'basecamp', 'jira', 'dbeaver','trello', 'miro', 'salesforce', \n",
        "           'rapidminer', 'thoughtspot',  'power point',  'docker', 'jenkins','integrate.io', 'talend', 'apache nifi','aws glue','pentaho','google data flow',\n",
        "             'azure data factory','xplenty','skyvia','iri voracity','xtract.io','dataddo', 'ssis',\n",
        "             'hevo data','informatica','oracle data integrator','k2view','cdata sync','querysurge', \n",
        "             'rivery', 'dbconvert', 'alooma', 'stitch', 'fivetran', 'matillion','streamsets','blendo',\n",
        "             'iri voracity','logstash', 'etleap', 'singer', 'apache camel','actian', 'airflow', 'luidgi', 'datastage',\n",
        "           'python', 'vba', 'scala', ' r ', 'java script', 'julia', 'sql', 'matlab', 'java', 'html', 'c++', 'sas',\n",
        "           'data studio', 'tableau', 'looker', 'powerbi', 'cognos', 'microstrategy', 'spotfire',\n",
        "             'sap business objects','microsoft sql server', 'oracle business intelligence', 'yellowfin',\n",
        "             'webfocus','sas visual analytics', 'targit', 'izenda',  'sisense', 'statsbot', 'panorama', 'inetsoft',\n",
        "             'birst', 'domo', 'metabase', 'redash', 'power bi', 'alteryx', 'dataiku', 'qlik sense', 'qlikview'\n",
        "          ]) "
      ]
    },
    {
      "cell_type": "code",
      "execution_count": 32,
      "metadata": {
        "id": "5OkbH2aHKqfL"
      },
      "outputs": [],
      "source": [
        "def get_skills(cell):\n",
        "    list_skills = []\n",
        "    for skill in skills:\n",
        "        if skill in cell.lower().replace('powerbi', 'power bi'):\n",
        "            list_skills.append(skill)\n",
        "    return list_skills"
      ]
    },
    {
      "cell_type": "code",
      "execution_count": 33,
      "metadata": {
        "id": "KIeKF7fhLc83"
      },
      "outputs": [],
      "source": [
        "df['skills'] = df['html'].apply(lambda x: BeautifulSoup(x).find('div', {'id':'job-details'}).text.strip()).apply(get_skills)"
      ]
    },
    {
      "cell_type": "code",
      "execution_count": 34,
      "metadata": {
        "colab": {
          "base_uri": "https://localhost:8080/",
          "height": 159
        },
        "id": "2edrp_pZLdGZ",
        "outputId": "0073baed-b22b-4b11-fac1-58e771aa0fe2"
      },
      "outputs": [
        {
          "data": {
            "text/html": [
              "\n",
              "  <div id=\"df-f74eb6a0-164c-4921-ba1b-ad1d6ea5d745\">\n",
              "    <div class=\"colab-df-container\">\n",
              "      <div>\n",
              "<style scoped>\n",
              "    .dataframe tbody tr th:only-of-type {\n",
              "        vertical-align: middle;\n",
              "    }\n",
              "\n",
              "    .dataframe tbody tr th {\n",
              "        vertical-align: top;\n",
              "    }\n",
              "\n",
              "    .dataframe thead th {\n",
              "        text-align: right;\n",
              "    }\n",
              "</style>\n",
              "<table border=\"1\" class=\"dataframe\">\n",
              "  <thead>\n",
              "    <tr style=\"text-align: right;\">\n",
              "      <th></th>\n",
              "      <th>Unnamed: 0</th>\n",
              "      <th>html</th>\n",
              "      <th>title</th>\n",
              "      <th>geo</th>\n",
              "      <th>city</th>\n",
              "      <th>country</th>\n",
              "      <th>job_type</th>\n",
              "      <th>company_name</th>\n",
              "      <th>employee_number</th>\n",
              "      <th>candidates</th>\n",
              "      <th>company_field</th>\n",
              "      <th>skills</th>\n",
              "    </tr>\n",
              "  </thead>\n",
              "  <tbody>\n",
              "    <tr>\n",
              "      <th>644</th>\n",
              "      <td>644</td>\n",
              "      <td>\\n  &lt;div&gt;\\n    &lt;div class=\"\\n        jobs-deta...</td>\n",
              "      <td>Data Engineer (m/f/d) - Pricing Intelligence</td>\n",
              "      <td>Munich, Bavaria, Germany</td>\n",
              "      <td>Munich</td>\n",
              "      <td>Germany</td>\n",
              "      <td>NaN</td>\n",
              "      <td>Flix</td>\n",
              "      <td>1,001-5,000</td>\n",
              "      <td>7</td>\n",
              "      <td>Travel Arrangements</td>\n",
              "      <td>[aws, snowflake, docker, jenkins, airflow, pyt...</td>\n",
              "    </tr>\n",
              "  </tbody>\n",
              "</table>\n",
              "</div>\n",
              "      <button class=\"colab-df-convert\" onclick=\"convertToInteractive('df-f74eb6a0-164c-4921-ba1b-ad1d6ea5d745')\"\n",
              "              title=\"Convert this dataframe to an interactive table.\"\n",
              "              style=\"display:none;\">\n",
              "        \n",
              "  <svg xmlns=\"http://www.w3.org/2000/svg\" height=\"24px\"viewBox=\"0 0 24 24\"\n",
              "       width=\"24px\">\n",
              "    <path d=\"M0 0h24v24H0V0z\" fill=\"none\"/>\n",
              "    <path d=\"M18.56 5.44l.94 2.06.94-2.06 2.06-.94-2.06-.94-.94-2.06-.94 2.06-2.06.94zm-11 1L8.5 8.5l.94-2.06 2.06-.94-2.06-.94L8.5 2.5l-.94 2.06-2.06.94zm10 10l.94 2.06.94-2.06 2.06-.94-2.06-.94-.94-2.06-.94 2.06-2.06.94z\"/><path d=\"M17.41 7.96l-1.37-1.37c-.4-.4-.92-.59-1.43-.59-.52 0-1.04.2-1.43.59L10.3 9.45l-7.72 7.72c-.78.78-.78 2.05 0 2.83L4 21.41c.39.39.9.59 1.41.59.51 0 1.02-.2 1.41-.59l7.78-7.78 2.81-2.81c.8-.78.8-2.07 0-2.86zM5.41 20L4 18.59l7.72-7.72 1.47 1.35L5.41 20z\"/>\n",
              "  </svg>\n",
              "      </button>\n",
              "      \n",
              "  <style>\n",
              "    .colab-df-container {\n",
              "      display:flex;\n",
              "      flex-wrap:wrap;\n",
              "      gap: 12px;\n",
              "    }\n",
              "\n",
              "    .colab-df-convert {\n",
              "      background-color: #E8F0FE;\n",
              "      border: none;\n",
              "      border-radius: 50%;\n",
              "      cursor: pointer;\n",
              "      display: none;\n",
              "      fill: #1967D2;\n",
              "      height: 32px;\n",
              "      padding: 0 0 0 0;\n",
              "      width: 32px;\n",
              "    }\n",
              "\n",
              "    .colab-df-convert:hover {\n",
              "      background-color: #E2EBFA;\n",
              "      box-shadow: 0px 1px 2px rgba(60, 64, 67, 0.3), 0px 1px 3px 1px rgba(60, 64, 67, 0.15);\n",
              "      fill: #174EA6;\n",
              "    }\n",
              "\n",
              "    [theme=dark] .colab-df-convert {\n",
              "      background-color: #3B4455;\n",
              "      fill: #D2E3FC;\n",
              "    }\n",
              "\n",
              "    [theme=dark] .colab-df-convert:hover {\n",
              "      background-color: #434B5C;\n",
              "      box-shadow: 0px 1px 3px 1px rgba(0, 0, 0, 0.15);\n",
              "      filter: drop-shadow(0px 1px 2px rgba(0, 0, 0, 0.3));\n",
              "      fill: #FFFFFF;\n",
              "    }\n",
              "  </style>\n",
              "\n",
              "      <script>\n",
              "        const buttonEl =\n",
              "          document.querySelector('#df-f74eb6a0-164c-4921-ba1b-ad1d6ea5d745 button.colab-df-convert');\n",
              "        buttonEl.style.display =\n",
              "          google.colab.kernel.accessAllowed ? 'block' : 'none';\n",
              "\n",
              "        async function convertToInteractive(key) {\n",
              "          const element = document.querySelector('#df-f74eb6a0-164c-4921-ba1b-ad1d6ea5d745');\n",
              "          const dataTable =\n",
              "            await google.colab.kernel.invokeFunction('convertToInteractive',\n",
              "                                                     [key], {});\n",
              "          if (!dataTable) return;\n",
              "\n",
              "          const docLinkHtml = 'Like what you see? Visit the ' +\n",
              "            '<a target=\"_blank\" href=https://colab.research.google.com/notebooks/data_table.ipynb>data table notebook</a>'\n",
              "            + ' to learn more about interactive tables.';\n",
              "          element.innerHTML = '';\n",
              "          dataTable['output_type'] = 'display_data';\n",
              "          await google.colab.output.renderOutput(dataTable, element);\n",
              "          const docLink = document.createElement('div');\n",
              "          docLink.innerHTML = docLinkHtml;\n",
              "          element.appendChild(docLink);\n",
              "        }\n",
              "      </script>\n",
              "    </div>\n",
              "  </div>\n",
              "  "
            ],
            "text/plain": [
              "     Unnamed: 0                                               html  \\\n",
              "644         644  \\n  <div>\\n    <div class=\"\\n        jobs-deta...   \n",
              "\n",
              "                                            title                       geo  \\\n",
              "644  Data Engineer (m/f/d) - Pricing Intelligence  Munich, Bavaria, Germany   \n",
              "\n",
              "       city  country job_type company_name employee_number candidates  \\\n",
              "644  Munich  Germany      NaN         Flix     1,001-5,000          7   \n",
              "\n",
              "           company_field                                             skills  \n",
              "644  Travel Arrangements  [aws, snowflake, docker, jenkins, airflow, pyt...  "
            ]
          },
          "execution_count": 34,
          "metadata": {},
          "output_type": "execute_result"
        }
      ],
      "source": [
        "df.sample()"
      ]
    },
    {
      "cell_type": "markdown",
      "metadata": {
        "id": "9AAr28QoFklF"
      },
      "source": [
        "We also can find the exact date for each job offer; we know that the date of parsing is 07-Sep-2022. LinkedIn gives you dates in \"x minutes/hours/days ago\" format, so we will get around this with timedelta."
      ]
    },
    {
      "cell_type": "code",
      "execution_count": 35,
      "metadata": {
        "id": "cUhIO5ghiSvr"
      },
      "outputs": [],
      "source": [
        "def get_date(cell):\n",
        "    try:\n",
        "        return BeautifulSoup(cell).find('span', class_= 'jobs-unified-top-card__posted-date').text.strip()\n",
        "    except:\n",
        "        return np.nan"
      ]
    },
    {
      "cell_type": "code",
      "execution_count": 36,
      "metadata": {
        "id": "LZutS5RfiVoY"
      },
      "outputs": [],
      "source": [
        "df['date'] = (df['html'].apply(get_date))"
      ]
    },
    {
      "cell_type": "code",
      "execution_count": 37,
      "metadata": {
        "colab": {
          "base_uri": "https://localhost:8080/",
          "height": 159
        },
        "id": "GgKPOCtji_mg",
        "outputId": "5a455ee1-44e4-477e-9768-441c630f29f9"
      },
      "outputs": [
        {
          "data": {
            "text/html": [
              "\n",
              "  <div id=\"df-adb1263f-449d-4bd1-b74c-2082524677fe\">\n",
              "    <div class=\"colab-df-container\">\n",
              "      <div>\n",
              "<style scoped>\n",
              "    .dataframe tbody tr th:only-of-type {\n",
              "        vertical-align: middle;\n",
              "    }\n",
              "\n",
              "    .dataframe tbody tr th {\n",
              "        vertical-align: top;\n",
              "    }\n",
              "\n",
              "    .dataframe thead th {\n",
              "        text-align: right;\n",
              "    }\n",
              "</style>\n",
              "<table border=\"1\" class=\"dataframe\">\n",
              "  <thead>\n",
              "    <tr style=\"text-align: right;\">\n",
              "      <th></th>\n",
              "      <th>Unnamed: 0</th>\n",
              "      <th>html</th>\n",
              "      <th>title</th>\n",
              "      <th>geo</th>\n",
              "      <th>city</th>\n",
              "      <th>country</th>\n",
              "      <th>job_type</th>\n",
              "      <th>company_name</th>\n",
              "      <th>employee_number</th>\n",
              "      <th>candidates</th>\n",
              "      <th>company_field</th>\n",
              "      <th>skills</th>\n",
              "      <th>date</th>\n",
              "    </tr>\n",
              "  </thead>\n",
              "  <tbody>\n",
              "    <tr>\n",
              "      <th>288</th>\n",
              "      <td>288</td>\n",
              "      <td>\\n  &lt;div&gt;\\n    &lt;div class=\"\\n        jobs-deta...</td>\n",
              "      <td>Online Data Analyst</td>\n",
              "      <td>Split, Split-Dalmatia, Croatia</td>\n",
              "      <td>Split</td>\n",
              "      <td>Croatia</td>\n",
              "      <td>Remote</td>\n",
              "      <td>TELUS International</td>\n",
              "      <td>10,001+</td>\n",
              "      <td>17</td>\n",
              "      <td>IT Services and IT Consulting</td>\n",
              "      <td>[]</td>\n",
              "      <td>6 days ago</td>\n",
              "    </tr>\n",
              "  </tbody>\n",
              "</table>\n",
              "</div>\n",
              "      <button class=\"colab-df-convert\" onclick=\"convertToInteractive('df-adb1263f-449d-4bd1-b74c-2082524677fe')\"\n",
              "              title=\"Convert this dataframe to an interactive table.\"\n",
              "              style=\"display:none;\">\n",
              "        \n",
              "  <svg xmlns=\"http://www.w3.org/2000/svg\" height=\"24px\"viewBox=\"0 0 24 24\"\n",
              "       width=\"24px\">\n",
              "    <path d=\"M0 0h24v24H0V0z\" fill=\"none\"/>\n",
              "    <path d=\"M18.56 5.44l.94 2.06.94-2.06 2.06-.94-2.06-.94-.94-2.06-.94 2.06-2.06.94zm-11 1L8.5 8.5l.94-2.06 2.06-.94-2.06-.94L8.5 2.5l-.94 2.06-2.06.94zm10 10l.94 2.06.94-2.06 2.06-.94-2.06-.94-.94-2.06-.94 2.06-2.06.94z\"/><path d=\"M17.41 7.96l-1.37-1.37c-.4-.4-.92-.59-1.43-.59-.52 0-1.04.2-1.43.59L10.3 9.45l-7.72 7.72c-.78.78-.78 2.05 0 2.83L4 21.41c.39.39.9.59 1.41.59.51 0 1.02-.2 1.41-.59l7.78-7.78 2.81-2.81c.8-.78.8-2.07 0-2.86zM5.41 20L4 18.59l7.72-7.72 1.47 1.35L5.41 20z\"/>\n",
              "  </svg>\n",
              "      </button>\n",
              "      \n",
              "  <style>\n",
              "    .colab-df-container {\n",
              "      display:flex;\n",
              "      flex-wrap:wrap;\n",
              "      gap: 12px;\n",
              "    }\n",
              "\n",
              "    .colab-df-convert {\n",
              "      background-color: #E8F0FE;\n",
              "      border: none;\n",
              "      border-radius: 50%;\n",
              "      cursor: pointer;\n",
              "      display: none;\n",
              "      fill: #1967D2;\n",
              "      height: 32px;\n",
              "      padding: 0 0 0 0;\n",
              "      width: 32px;\n",
              "    }\n",
              "\n",
              "    .colab-df-convert:hover {\n",
              "      background-color: #E2EBFA;\n",
              "      box-shadow: 0px 1px 2px rgba(60, 64, 67, 0.3), 0px 1px 3px 1px rgba(60, 64, 67, 0.15);\n",
              "      fill: #174EA6;\n",
              "    }\n",
              "\n",
              "    [theme=dark] .colab-df-convert {\n",
              "      background-color: #3B4455;\n",
              "      fill: #D2E3FC;\n",
              "    }\n",
              "\n",
              "    [theme=dark] .colab-df-convert:hover {\n",
              "      background-color: #434B5C;\n",
              "      box-shadow: 0px 1px 3px 1px rgba(0, 0, 0, 0.15);\n",
              "      filter: drop-shadow(0px 1px 2px rgba(0, 0, 0, 0.3));\n",
              "      fill: #FFFFFF;\n",
              "    }\n",
              "  </style>\n",
              "\n",
              "      <script>\n",
              "        const buttonEl =\n",
              "          document.querySelector('#df-adb1263f-449d-4bd1-b74c-2082524677fe button.colab-df-convert');\n",
              "        buttonEl.style.display =\n",
              "          google.colab.kernel.accessAllowed ? 'block' : 'none';\n",
              "\n",
              "        async function convertToInteractive(key) {\n",
              "          const element = document.querySelector('#df-adb1263f-449d-4bd1-b74c-2082524677fe');\n",
              "          const dataTable =\n",
              "            await google.colab.kernel.invokeFunction('convertToInteractive',\n",
              "                                                     [key], {});\n",
              "          if (!dataTable) return;\n",
              "\n",
              "          const docLinkHtml = 'Like what you see? Visit the ' +\n",
              "            '<a target=\"_blank\" href=https://colab.research.google.com/notebooks/data_table.ipynb>data table notebook</a>'\n",
              "            + ' to learn more about interactive tables.';\n",
              "          element.innerHTML = '';\n",
              "          dataTable['output_type'] = 'display_data';\n",
              "          await google.colab.output.renderOutput(dataTable, element);\n",
              "          const docLink = document.createElement('div');\n",
              "          docLink.innerHTML = docLinkHtml;\n",
              "          element.appendChild(docLink);\n",
              "        }\n",
              "      </script>\n",
              "    </div>\n",
              "  </div>\n",
              "  "
            ],
            "text/plain": [
              "     Unnamed: 0                                               html  \\\n",
              "288         288  \\n  <div>\\n    <div class=\"\\n        jobs-deta...   \n",
              "\n",
              "                   title                             geo   city  country  \\\n",
              "288  Online Data Analyst  Split, Split-Dalmatia, Croatia  Split  Croatia   \n",
              "\n",
              "    job_type         company_name employee_number candidates  \\\n",
              "288   Remote  TELUS International         10,001+         17   \n",
              "\n",
              "                     company_field skills        date  \n",
              "288  IT Services and IT Consulting     []  6 days ago  "
            ]
          },
          "execution_count": 37,
          "metadata": {},
          "output_type": "execute_result"
        }
      ],
      "source": [
        "df.sample()"
      ]
    },
    {
      "cell_type": "code",
      "execution_count": 38,
      "metadata": {
        "id": "raTUQ2Gkkr5C"
      },
      "outputs": [],
      "source": [
        "date_parsing_str = \"2022-09-07\"\n",
        "date_parsing = datetime.strptime(date_parsing_str, \"%Y-%m-%d\")\n",
        "def get_right_date(cell):\n",
        "    if 'days' in cell or 'day' in cell:\n",
        "        number_of_days = int(cell.split(' ')[0])\n",
        "        cell = (date_parsing - timedelta(days=number_of_days)).strftime('%Y-%m-%d')\n",
        "    else:\n",
        "        cell = date_parsing.strftime('%Y-%m-%d')\n",
        "    return cell "
      ]
    },
    {
      "cell_type": "code",
      "execution_count": 39,
      "metadata": {
        "id": "QSbNWnlxkz81"
      },
      "outputs": [],
      "source": [
        "df['date'] = df['date'].apply(get_right_date)"
      ]
    },
    {
      "cell_type": "code",
      "execution_count": 40,
      "metadata": {
        "colab": {
          "base_uri": "https://localhost:8080/",
          "height": 159
        },
        "id": "6tBwxdZXk6r-",
        "outputId": "0e5c641e-f0ad-4fd4-aa9d-12c634af003d"
      },
      "outputs": [
        {
          "data": {
            "text/html": [
              "\n",
              "  <div id=\"df-a22b1d57-ef93-489c-822b-abbda48ea599\">\n",
              "    <div class=\"colab-df-container\">\n",
              "      <div>\n",
              "<style scoped>\n",
              "    .dataframe tbody tr th:only-of-type {\n",
              "        vertical-align: middle;\n",
              "    }\n",
              "\n",
              "    .dataframe tbody tr th {\n",
              "        vertical-align: top;\n",
              "    }\n",
              "\n",
              "    .dataframe thead th {\n",
              "        text-align: right;\n",
              "    }\n",
              "</style>\n",
              "<table border=\"1\" class=\"dataframe\">\n",
              "  <thead>\n",
              "    <tr style=\"text-align: right;\">\n",
              "      <th></th>\n",
              "      <th>Unnamed: 0</th>\n",
              "      <th>html</th>\n",
              "      <th>title</th>\n",
              "      <th>geo</th>\n",
              "      <th>city</th>\n",
              "      <th>country</th>\n",
              "      <th>job_type</th>\n",
              "      <th>company_name</th>\n",
              "      <th>employee_number</th>\n",
              "      <th>candidates</th>\n",
              "      <th>company_field</th>\n",
              "      <th>skills</th>\n",
              "      <th>date</th>\n",
              "    </tr>\n",
              "  </thead>\n",
              "  <tbody>\n",
              "    <tr>\n",
              "      <th>451</th>\n",
              "      <td>451</td>\n",
              "      <td>\\n  &lt;div&gt;\\n    &lt;div class=\"\\n        jobs-deta...</td>\n",
              "      <td>Data Analyst</td>\n",
              "      <td>United Kingdom</td>\n",
              "      <td>NaN</td>\n",
              "      <td>United Kingdom</td>\n",
              "      <td>Remote</td>\n",
              "      <td>Endeavor</td>\n",
              "      <td>5,001-10,000</td>\n",
              "      <td>NaN</td>\n",
              "      <td>Entertainment Providers</td>\n",
              "      <td>[aws, azure, excel, snowflake, python,  r , sq...</td>\n",
              "      <td>2022-09-05</td>\n",
              "    </tr>\n",
              "  </tbody>\n",
              "</table>\n",
              "</div>\n",
              "      <button class=\"colab-df-convert\" onclick=\"convertToInteractive('df-a22b1d57-ef93-489c-822b-abbda48ea599')\"\n",
              "              title=\"Convert this dataframe to an interactive table.\"\n",
              "              style=\"display:none;\">\n",
              "        \n",
              "  <svg xmlns=\"http://www.w3.org/2000/svg\" height=\"24px\"viewBox=\"0 0 24 24\"\n",
              "       width=\"24px\">\n",
              "    <path d=\"M0 0h24v24H0V0z\" fill=\"none\"/>\n",
              "    <path d=\"M18.56 5.44l.94 2.06.94-2.06 2.06-.94-2.06-.94-.94-2.06-.94 2.06-2.06.94zm-11 1L8.5 8.5l.94-2.06 2.06-.94-2.06-.94L8.5 2.5l-.94 2.06-2.06.94zm10 10l.94 2.06.94-2.06 2.06-.94-2.06-.94-.94-2.06-.94 2.06-2.06.94z\"/><path d=\"M17.41 7.96l-1.37-1.37c-.4-.4-.92-.59-1.43-.59-.52 0-1.04.2-1.43.59L10.3 9.45l-7.72 7.72c-.78.78-.78 2.05 0 2.83L4 21.41c.39.39.9.59 1.41.59.51 0 1.02-.2 1.41-.59l7.78-7.78 2.81-2.81c.8-.78.8-2.07 0-2.86zM5.41 20L4 18.59l7.72-7.72 1.47 1.35L5.41 20z\"/>\n",
              "  </svg>\n",
              "      </button>\n",
              "      \n",
              "  <style>\n",
              "    .colab-df-container {\n",
              "      display:flex;\n",
              "      flex-wrap:wrap;\n",
              "      gap: 12px;\n",
              "    }\n",
              "\n",
              "    .colab-df-convert {\n",
              "      background-color: #E8F0FE;\n",
              "      border: none;\n",
              "      border-radius: 50%;\n",
              "      cursor: pointer;\n",
              "      display: none;\n",
              "      fill: #1967D2;\n",
              "      height: 32px;\n",
              "      padding: 0 0 0 0;\n",
              "      width: 32px;\n",
              "    }\n",
              "\n",
              "    .colab-df-convert:hover {\n",
              "      background-color: #E2EBFA;\n",
              "      box-shadow: 0px 1px 2px rgba(60, 64, 67, 0.3), 0px 1px 3px 1px rgba(60, 64, 67, 0.15);\n",
              "      fill: #174EA6;\n",
              "    }\n",
              "\n",
              "    [theme=dark] .colab-df-convert {\n",
              "      background-color: #3B4455;\n",
              "      fill: #D2E3FC;\n",
              "    }\n",
              "\n",
              "    [theme=dark] .colab-df-convert:hover {\n",
              "      background-color: #434B5C;\n",
              "      box-shadow: 0px 1px 3px 1px rgba(0, 0, 0, 0.15);\n",
              "      filter: drop-shadow(0px 1px 2px rgba(0, 0, 0, 0.3));\n",
              "      fill: #FFFFFF;\n",
              "    }\n",
              "  </style>\n",
              "\n",
              "      <script>\n",
              "        const buttonEl =\n",
              "          document.querySelector('#df-a22b1d57-ef93-489c-822b-abbda48ea599 button.colab-df-convert');\n",
              "        buttonEl.style.display =\n",
              "          google.colab.kernel.accessAllowed ? 'block' : 'none';\n",
              "\n",
              "        async function convertToInteractive(key) {\n",
              "          const element = document.querySelector('#df-a22b1d57-ef93-489c-822b-abbda48ea599');\n",
              "          const dataTable =\n",
              "            await google.colab.kernel.invokeFunction('convertToInteractive',\n",
              "                                                     [key], {});\n",
              "          if (!dataTable) return;\n",
              "\n",
              "          const docLinkHtml = 'Like what you see? Visit the ' +\n",
              "            '<a target=\"_blank\" href=https://colab.research.google.com/notebooks/data_table.ipynb>data table notebook</a>'\n",
              "            + ' to learn more about interactive tables.';\n",
              "          element.innerHTML = '';\n",
              "          dataTable['output_type'] = 'display_data';\n",
              "          await google.colab.output.renderOutput(dataTable, element);\n",
              "          const docLink = document.createElement('div');\n",
              "          docLink.innerHTML = docLinkHtml;\n",
              "          element.appendChild(docLink);\n",
              "        }\n",
              "      </script>\n",
              "    </div>\n",
              "  </div>\n",
              "  "
            ],
            "text/plain": [
              "     Unnamed: 0                                               html  \\\n",
              "451         451  \\n  <div>\\n    <div class=\"\\n        jobs-deta...   \n",
              "\n",
              "            title             geo city         country job_type company_name  \\\n",
              "451  Data Analyst  United Kingdom  NaN  United Kingdom   Remote     Endeavor   \n",
              "\n",
              "    employee_number candidates            company_field  \\\n",
              "451    5,001-10,000        NaN  Entertainment Providers   \n",
              "\n",
              "                                                skills        date  \n",
              "451  [aws, azure, excel, snowflake, python,  r , sq...  2022-09-05  "
            ]
          },
          "execution_count": 40,
          "metadata": {},
          "output_type": "execute_result"
        }
      ],
      "source": [
        "df.sample()"
      ]
    },
    {
      "cell_type": "code",
      "execution_count": 41,
      "metadata": {
        "colab": {
          "base_uri": "https://localhost:8080/"
        },
        "id": "eG25KzgVniYe",
        "outputId": "d59ecbee-c684-438c-a08e-aae6c94edb5e"
      },
      "outputs": [
        {
          "data": {
            "text/plain": [
              "array(['2022-09-07', '2022-09-03', '2022-09-01', '2022-09-02',\n",
              "       '2022-09-05', '2022-09-06', '2022-09-04'], dtype=object)"
            ]
          },
          "execution_count": 41,
          "metadata": {},
          "output_type": "execute_result"
        }
      ],
      "source": [
        "df.date.unique()"
      ]
    },
    {
      "cell_type": "markdown",
      "metadata": {
        "id": "55iv285U8nyE"
      },
      "source": [
        "We will also need exact links for distinctions of offers for Tableau."
      ]
    },
    {
      "cell_type": "code",
      "execution_count": 42,
      "metadata": {
        "id": "KbrmPMMs8tVj"
      },
      "outputs": [],
      "source": [
        "df['link'] = df['html'].apply(lambda x: \"https://linkedin.com\" + BeautifulSoup(x).find('a').get('href'))"
      ]
    },
    {
      "cell_type": "markdown",
      "metadata": {
        "id": "wmp___hxGO6g"
      },
      "source": [
        "We've got all we wanted. So now let's make our data pretty - let's filter relevant offers, get rid of duplicates and excessive columns."
      ]
    },
    {
      "cell_type": "markdown",
      "metadata": {
        "id": "i-x-qTc3Wo3k"
      },
      "source": [
        "##Data cleaning"
      ]
    },
    {
      "cell_type": "markdown",
      "metadata": {
        "id": "Wj552JmkHAys"
      },
      "source": [
        "First, we'll take a look at job titles. Do we have relevant offers?"
      ]
    },
    {
      "cell_type": "code",
      "execution_count": 43,
      "metadata": {
        "colab": {
          "base_uri": "https://localhost:8080/"
        },
        "id": "O_8h4UyRHLRd",
        "outputId": "7510bdb3-70d8-4b84-eaca-0e0bc578e82c"
      },
      "outputs": [
        {
          "data": {
            "text/plain": [
              "array(['Stage - Assistant Ingénieur Qualité - Beyrand (H/F)',\n",
              "       'développeur matlab/simulink, secteur automobile f/h',\n",
              "       'Online Data Analyst', 'Online Data Analyst - Belgium',\n",
              "       'Data Analyst', 'Alternant/ Alternante data analyst M/F',\n",
              "       'Alternant(e) Data Scientist (H/F)',\n",
              "       'ALTERNANCE- TOTALENERGIES RENEWABLES - Data Engineer (H/F)',\n",
              "       'Data Engineer (with Python)', 'Junior Test Analyst',\n",
              "       'Data Analyst H/F',\n",
              "       'Data Scientist e-Commerce & Acquisition Monétique',\n",
              "       'Ingénieur de recherche en traitement de données de mobilité H/F',\n",
              "       'INGENIERO/A PRODUCTO Y CALIDAD AUTOMOCIÓN',\n",
              "       'Data Scientist - Experience', 'Stage - Data Analyst (H/F)',\n",
              "       'Data Analyst (F/H)', 'Data Analyst (Tableau)',\n",
              "       '(Junior) Data Scientist (m/w/d)', 'Junior Data Scientist',\n",
              "       'Data Scientist en stage H/F',\n",
              "       'Software Development Engineer (Seville // Madrid) (Madrid or Seville)',\n",
              "       'DATA SCIENTIST', 'Online Data Analyst | French Speaker',\n",
              "       'Online Data Analyst | Flexible Work',\n",
              "       'Assistant(e) Chef(fe) de Projet Innovation - Stage',\n",
              "       'Football Statistician (Data Collection)',\n",
              "       'Online Data Analyst | REMOTE OPPORTUNITY',\n",
              "       'Football & Ice Hockey Statistician (Data Collection)',\n",
              "       'Data engineer Big Data (H/F) - ELC', 'Data analyst',\n",
              "       'Data Analyst (IT)', 'Data Analyst (m/f/d)',\n",
              "       'Data Analyst (M/W/D)', 'Ingénieur Exploitation Junior H/F',\n",
              "       'DATA SCIENTIST H/F TOULOUSE', 'Remote | Data Analyst',\n",
              "       'Ingénieur.e Etudes et Développement Python (H/F)',\n",
              "       'Backend Engineer - Revenue Engineering',\n",
              "       'Handball Statistician (Data Collection)',\n",
              "       '(Junior) Financial Data Scientist (w/m/d)',\n",
              "       'Software Engineer ambito Core Banking (Neolaureati)',\n",
              "       'Data Analyst SA1/SA2',\n",
              "       \"Data Scientist débutant - Digitalisation des outils d'intégrité Subsea / Digitalisation of Subsea Integrity tools (H/F)\",\n",
              "       'Data Scientist', 'Employé Administratif – Aide comptable',\n",
              "       'Data analyst | Deals (M&A) | CDI | H/F',\n",
              "       'Développeur Full Stack expérimenté H/F',\n",
              "       'Data Analyst - AdSales & StoryWorks', 'Data Analytics Engineer',\n",
              "       'Data Analyst with focus on solution design (m/f/d)',\n",
              "       'Remote| Data Analyst', 'Data Analyst - (m/f/d)',\n",
              "       'Développeur embarqué / python – Besançon, France (H/F)',\n",
              "       'Alternance - Data Analyst/Dataviz Specialist H/F',\n",
              "       'Partner Engineer - Consumer Experience', 'Junior Data Engineer',\n",
              "       'Data Analyst  - Boursorama',\n",
              "       'Technology Strategy & Advisory Junior Analyst',\n",
              "       'Data Analyst in Forensic Technology Services team',\n",
              "       'Data Analyst (m/w/d)', 'Junior Business Analyst',\n",
              "       'Engineer Standard Cells Generation and Automation (f/m/div)*',\n",
              "       'Analyste Exploitation Datacenter',\n",
              "       'Ice Hockey Statistician (Data Collection)',\n",
              "       'Digital Assets Weekend/Nights Trading Assistant',\n",
              "       'Data Analyst with Python', 'Online Data Analyst in the UK',\n",
              "       'Data Analyst Clickshare', 'Data Analyst - Associate',\n",
              "       'Ingénieur Analyste GC/GCMS H/F', 'Technik kvality (M/Ž)',\n",
              "       'Work From Home | Data Analyst', 'Internet Analyst',\n",
              "       'Graduate Cloud Engineering Program (m/f/d)',\n",
              "       'BIG DATA - Talent Campus', 'Data Analyst - Performance',\n",
              "       'Consultant Data junior H/F - Data & Analytics',\n",
              "       'Software Engineer Associate - Milano [DIG]',\n",
              "       'Graduate Developer (J12995)', 'Data Data Analyst with Spanish',\n",
              "       'Junior Functional Analyst ambito Canali',\n",
              "       'Data Analyst (Part-time)', 'Data Analyst Customer Excellence',\n",
              "       'Digital Assets Trader', 'Internet Analyst (Remote)',\n",
              "       'Développeur Python (H/F)', 'Data/Analyst Data Translator (H/F)',\n",
              "       'FULL STACK DEVELOPER', 'Graduate Developer (J12998)',\n",
              "       'Junior Business Analyst (m/f/d)', 'Product Data Analyst',\n",
              "       'Data Analyst - Oxfordshire', 'Développeur Siebel (H/F)',\n",
              "       'Data Engineer - Experience Mission', 'Graduate Data Analyst',\n",
              "       'Graduate Data Analyst 12 Month FTC', 'DATA ANALYST',\n",
              "       'Product/Data Analyst', 'Data Analyst - Werkstudent (m/w/d)',\n",
              "       'Data Engineer - Platform Foundations',\n",
              "       'Superbe opportunité de Data analyst - 100% à Martigny',\n",
              "       'Développeur python (H/F)', 'Optimization Data Scientist',\n",
              "       'Azure Data Engineer', 'Data Engineer',\n",
              "       'STAGE - DEVELOPPEUR FULLSTACK- Direction IT EXPERIENCE CLIENT (H/F)',\n",
              "       'Python Developer', 'Digital Analytics Specialist', 'PMO Junior',\n",
              "       'Développeur Back-End C# .NET Azure IoT H/F',\n",
              "       'Customer Data Analyst (m/w/d)',\n",
              "       'Data Analyst Düsseldorf/München gesucht at JSAN Consulting GmbH',\n",
              "       'Geo Data Scientist', 'Software Engineer I',\n",
              "       'Data Analyst E-Commerce (m/w/d)', 'CONSULTANT DATA ANALYST (F/H)',\n",
              "       'Remote | Internet Analyst', 'STAGE - DATA ANALYST MARKETING F/H',\n",
              "       'Data Internet Analyst', 'Data Analyst RH - F/H',\n",
              "       'Data Engineer for Business Intelligence/ Data Analytics team',\n",
              "       'Data Scientist - H/F', 'Data Development Analyst',\n",
              "       'Data Analyst in Technology Team, Financial Crime Unit',\n",
              "       'Application Engineer (Regulatory Data)', 'Junior Data Analyst',\n",
              "       'Software engineer', 'Data Scientist (mf/d)',\n",
              "       'Software Engineer Dataiku Online - Paris or Remote France',\n",
              "       'Data Analyst (CDM 8 mois)', 'Asset Data Analyst',\n",
              "       'DEVELOPPEUR PYTHON H/F NANTES', 'MACHINE LEARNING ENGINEER',\n",
              "       'Junior Software/Cloud Engineer - Harderwijk', 'Data Engineer F/H',\n",
              "       'Internet Analyst | Greater Bologna Metropolitan Area',\n",
              "       'Data Analyst (m/w/d) - Automotive', 'Machine Learning Engineer',\n",
              "       'Stage BI Business Intelligence', 'Junior Data Scientist-Stage',\n",
              "       'Data Scientist - Part of Shell Graduate Programme',\n",
              "       'Graduate Developer (J12996)', 'Product Data Analyst (V.I.E.) H/F',\n",
              "       'DATA ANALYST - F/H - IDF', 'Software Engineer - Performance',\n",
              "       'Engineer chemical supply CMP (w/m/div)*',\n",
              "       'Data Analyst with Spanish (shifts), Corporate Actions',\n",
              "       'Material Data Analyst', 'Junior Data & AI Engineer',\n",
              "       'Data Analyst (Hydro)', 'Graduate Data Scientist',\n",
              "       'Junior Python Developer',\n",
              "       'Transaction Monitoring Data Scientist in Technology Team, Financial Crime Unit',\n",
              "       'Data Scientist (w/m/d)', 'Data Analyst - Part time',\n",
              "       'CONSULTANT.E JUNIOR- DEVELOPPEMENT DE NOUVEAUX BUSINESS',\n",
              "       'Data Analyst (Product & Operations) - Sustainability',\n",
              "       'Data Analyst/Data-Analystin - IT Forensik (m/w/d)',\n",
              "       'Operations Data Analyst (They/She/He)', 'Analyst',\n",
              "       'Analytics API/BE Developer', 'Analyst Big Data',\n",
              "       '(Junior) H2 Modelling Analyst m/f/t', 'Data engineer - F/H',\n",
              "       'Back-End Developer M/F',\n",
              "       'Consultant Junior Digital Operations - Aéronautique/Spatial',\n",
              "       'Enseignant-chercheur spécialité électronique embar',\n",
              "       'Ingenieur Messtechnik (m/w/d)',\n",
              "       'Data Analyst (m/f/d) Brand Marketing',\n",
              "       'Internet Analyst - Remote',\n",
              "       'Business Analyst / Consultant IT Sourcing (m/w/d) in Düsseldorf',\n",
              "       'Ingénieur-e Optronique F/H', 'STAGE data analyst H/F',\n",
              "       'ALTERNANT PRODUCT OWNER H/F', 'Analyste Risque Retail-(H/F)',\n",
              "       'Simulation Ingenieur Insassenschutz (m/w/d)',\n",
              "       'Data Analyst - 9 Month Fixed Term Contract',\n",
              "       'Commercial Data Analyst', 'Junior Analyst (J12998)',\n",
              "       'Data Engineer for Business Intelligence/Data Analytics team',\n",
              "       'Consultant Junior | CIO Advisory | CDI | H/F',\n",
              "       'Incentives Analyst', 'Data Analytics Analyst',\n",
              "       'Data Analyst (f/m/d)',\n",
              "       'Remote Opportunity for Norwegian speakers | Media Search Analyst',\n",
              "       'Data Engineer / Analytics Product Owner',\n",
              "       'Graduate Python Developer',\n",
              "       'Business Intelligence & Market Insights Analyst',\n",
              "       'Junior Analytics Engineer (m/w/d)', 'Ingeniero/a RAM',\n",
              "       'Analista funzionale', 'Thesis Worker, Simulation',\n",
              "       'Python Developer - AWS / CI/CD - Swiss Insurance Company',\n",
              "       'Paid Social Specialist',\n",
              "       'Data, Reporting and Insights Specialist',\n",
              "       'Electrification engineer Martorell - Several Engineering positions (Power electronics)',\n",
              "       \"Chargé.e d'études Flux et Mobilités (CDI) - F/H\",\n",
              "       'PHP Full Stack Developer', 'Stage Digital Analytics - Marketing',\n",
              "       'Data Engineer Spark Scala Sensitivities (H/F) IT CIB',\n",
              "       'Financial Analyst', 'Engineer',\n",
              "       'Data Scientist - Field Marketing', 'Environmental Data Analyst',\n",
              "       'Data Analyst - Marketing', 'Data Analyst TUI.com (m/w/d)',\n",
              "       'Data Analyst (Tijdelijk - 3 Maanden)',\n",
              "       'Data Analyst & Coordinator',\n",
              "       \"Data Analyst & développement digital de l'Audit Compagnie F/H\",\n",
              "       'AI/ML Engineer', 'Data Analyst Télécom (IT)',\n",
              "       'Performance and Data Analyst', 'Data Scientist .',\n",
              "       'Stagiaire Développeur solution L4G',\n",
              "       'Software Engineer - Data Visualization',\n",
              "       'Solution Analyst area MES',\n",
              "       'Python Engineer for Booking Backend Tribe',\n",
              "       'Data Analyst - Analytics and Insights - Data Center of Excellence',\n",
              "       'Stage innovation – DATA SCIENTIST – IA H/F',\n",
              "       \"Jeune Docteur R&D - Data Science & IA dans la Finance d'Entreprise - H/F\",\n",
              "       'Junior Analyst (J12997)',\n",
              "       'Business Analytics & Service Enhancement Specialist (Maternity Cover)',\n",
              "       'Data Analyst (Spotfire and/or Mendix, SQL and Python), Veldhoven',\n",
              "       'CX Data Analyst', 'Skilled Data Scientist', 'Power BI Developer',\n",
              "       'Young Graduate Data Engineer', 'Customer Engineer',\n",
              "       'Softwareentwicklerin/Softwareentwickler',\n",
              "       'Développeuse/Développeur Odoo / Python',\n",
              "       'Développeur Python - F/H', 'Data analyst Datalake (F/H)',\n",
              "       'Back-End Engineer, DeFi',\n",
              "       'DATA SCIENTIST / DATA ENGINEER, Secteur aéronautique',\n",
              "       'Développeur BI junior F/H', 'Apprenti.e Data analyst (h/f)',\n",
              "       'Quality Engineer electronics',\n",
              "       'Data Analyst (Spotfire and/or Mendix, SQL and Python) - Veldhoven',\n",
              "       'Cryptography Specialist Engineer (Snaps)',\n",
              "       'Internet Analyst | Greater Turin Metropolitan Area',\n",
              "       'Software Engineer', 'Graduate Developer',\n",
              "       'Online Data Analyst - Sweden',\n",
              "       'Part-time Work Opportunity | Online Data Analyst',\n",
              "       'Developer Sophis Back-Office (H/F)',\n",
              "       'Ingénieur en développement Python sur les traitements de médias (H/F)',\n",
              "       'Ingénieur qualité images satellites - F/H',\n",
              "       'Software Engineer - Compute', 'C++ Developer',\n",
              "       'Internet Analyst (Part-time)',\n",
              "       'Ingénieur R&D Ruby / Python F/H H/F',\n",
              "       'Data Engineer junior | MedTech', 'Reporting & Data analyst',\n",
              "       'Junior Business Analyst (m/w/d)', 'Junior Analyst (J12995)',\n",
              "       'Consultant junior Transports H/F - Utilities, Postal & Transportation',\n",
              "       'Data Modelling Analyst',\n",
              "       'Data Analyst mit Fokus auf Up- und Crossselling (m/w/d)',\n",
              "       'Associate Data Analyst - Product Analytics',\n",
              "       'Data Analyst - Finance',\n",
              "       'analista di processi e tecnologie industriali di produzione.',\n",
              "       'Internet Analyst (Remote Set-up)',\n",
              "       'Speech Data Collection in Germany',\n",
              "       'Developer Manufacturing Processes PWR (f/m/d)',\n",
              "       'Search Engine Optimization Analyst', \"Chargé d'études Sport\",\n",
              "       'Yahoo Finance Backend Engineer',\n",
              "       'Pensions Administration Data Analyst',\n",
              "       'Data Analyst (Marketing Team)',\n",
              "       'Backend Engineer - Data Platform', 'Junior Analyst (J12996)',\n",
              "       'Business Analyst H/F', 'Data Entry Specialist',\n",
              "       'Ingénieur Pilote Non Conformités - H/F - PARIS',\n",
              "       'Data Analyst & BusinessObjects Developer', 'Software Developer',\n",
              "       'Data Scientist - Torino',\n",
              "       'NEOLAUREATO/A IN ECONOMIA per attività di CONSULENTE JUNIOR APPLICATIVO ERP/INGEGNERIA',\n",
              "       'Data analyste - H/F - Alternance', 'Data Analyst, Digital',\n",
              "       'Stage - Business Intelligence / Service Qualité - BAc +5 (dépt 27 - Le Vaudreuil)- F/H',\n",
              "       'Développeur Objet domaine défense H/F',\n",
              "       'Enterprise Architect Junior Analyst [Online / Phone Recruitment]',\n",
              "       'Consultant junior H/F - IT Strategy',\n",
              "       'Data Engineer - Data Science Engineering',\n",
              "       'Data Analyst-Tecan Evo Plus and Fluent Biosero GBG',\n",
              "       'Junior Market Data Analyst', 'SOFTWARE ENGINEER',\n",
              "       'Data Analyst - Demand', 'DEVELOPPEUR PYTHON (H/F) IDF',\n",
              "       'Développeur Python',\n",
              "       'Data Analyst (Insurance) - Multiple Positions',\n",
              "       'Data Analyst, Banking & Insurance',\n",
              "       'Remote | Software Engineer (Golang) Poland',\n",
              "       '(Senior) Fullstack Engineer (all genders) Remote',\n",
              "       'Studentische Mitarbeiterin / Studentischer Mitarbeiter (m/w/d) im Business Management der Volkswagen Consulting, Schwerpunkt Personalmarketing und Social Media',\n",
              "       'Software Engineer (m/f/x)- Remote/ Hybrid',\n",
              "       'Développeur Full-stack expérimenté(e) (H/F)',\n",
              "       'DATA ENGINEER SKYWISE [H/F/D]', 'Online Data Analyst - Slovenia',\n",
              "       'PT Compliance Hub - Data Analyst', 'DEVOPS ENGINEER',\n",
              "       'Traineeship Data Analist', 'Data Engineer - Metrics',\n",
              "       'Werkstudent Pricing (w/m/d) - Smart Starter Programm',\n",
              "       'Commercial Data Analyst - Online Travel - London - £40K',\n",
              "       'Online Data Analyst - Croatia', 'API Developer',\n",
              "       'Junior Product Owner',\n",
              "       'Software Engineer - Application Frameworks and Project Bootstrapping',\n",
              "       'Développeur full stack F/H', 'Location Strategy & Data Analyst',\n",
              "       'Software Backend Engineer (m/f/d)', 'Data Entry in Spain',\n",
              "       'Cybersecurity Data Analyst', 'Data Analyst Product, CRO expert',\n",
              "       'Web Analyst for Czech Speaker in Germany',\n",
              "       'Media Search Analyst - German (DE)',\n",
              "       'Data Engineering & Data Warehouse Analyst (all genders)',\n",
              "       'Chef de projet data F/H', 'GIS Asset Data Analyst',\n",
              "       'Data Engineer (Analytics)',\n",
              "       'Data Scientist / Machine Learning Engineer',\n",
              "       'Ingénieur prévisions des énergies', 'Homologation Engineer',\n",
              "       'Data Specialist (Steward / Analyst)', 'Analyste Data H/F',\n",
              "       'Data Scientist-Analyst GERS (H/F) - Boulogne-Billancourt (France)',\n",
              "       'Analytics Engineer - Internal Analytics',\n",
              "       'Stagiaire Ingénieur Data (F/H)', 'Test Engineer DevOps',\n",
              "       'Customer Ledger Data Analyst',\n",
              "       'Data Analyst (m/f/d) Workload Planning (Business Administrator (Fachschule) - Information Processing)',\n",
              "       'Data Analytics Developer', 'People Systems and Data Analyst',\n",
              "       'Développeur C++ - QT - H/F - Paris', 'Kubernetes Developer',\n",
              "       'Software Engineer - Resilience',\n",
              "       'Product Data Analyst / Analytics Engineer — London',\n",
              "       'Promoter Engineer', 'ML Ops Engineer',\n",
              "       'Online Data Analyst - Slovakia',\n",
              "       'SSWHG35824 - Data Analyst, CHAIR Programme, Section Officer, Grade VI',\n",
              "       'Social Media Analyst',\n",
              "       'JUNIOR CONSULTANT - SETTORE INNOVAZIONE TECNOLOGICA\\xa0- SP10868',\n",
              "       'OutSystems Developer', 'Insight Analyst',\n",
              "       'Data Analyst | E-commerce & Crowdfunding',\n",
              "       'Quality Engineer - Product Analyst', 'DevOps Engineer',\n",
              "       '(Junior) Consultant Digitales & Strategisches Prozessmanagement (m/w/d) in Stuttgart',\n",
              "       \"Stagiaire Développeur d'outils pédagogiques de formation (H/F)\",\n",
              "       'SW Developer in Test (C++) – Brno',\n",
              "       'Data Analyst for Portuguese Speakers',\n",
              "       'Sample Management Data Analyst',\n",
              "       'Stage - Développeur FullStack (H/F)', 'Data engineer H/F',\n",
              "       \"Analyste risques suivi d'activité de marché-(H/F)\",\n",
              "       'Développeur Python Back-end',\n",
              "       'Application Data Analyst Hybrid working',\n",
              "       'Inventory data analyst til Europas største kontorartikelleverandør',\n",
              "       'Junior Consultant - Taranto', 'Data Analyst Pricing – F/H',\n",
              "       'SVILUPPATORE C++/PYTHON', 'Data Analyst - Regulatory Affairs',\n",
              "       'Language Data Analyst - Hebrew', 'Acoustic Data Analyst',\n",
              "       'Systems Data Analyst', 'Ingenieur für die Produktion (m/w/d)',\n",
              "       'Ingénieur en télédétection et physique atmosphérique - F/H',\n",
              "       'BI Engineer, Business Intelligence #SWX H/F',\n",
              "       'Software function developer for electric powertrain control',\n",
              "       'Junior Network Quality Engineer',\n",
              "       'Junior Data Governance Specialist',\n",
              "       'Junior Technical Analyst (all genders)',\n",
              "       'Business Intelligence Consultant',\n",
              "       'Risk Analytics & AI Professionals',\n",
              "       'Cloud Engineer bij InnoValor', 'Functional Analyst',\n",
              "       'Master Data (bilingue anglais) H/F', 'SW integrator engineer',\n",
              "       '(JUNIOR) CONSULTANT (M/W/D) TRANSFORMATION & DATA, bis 70k',\n",
              "       'Data Steward', 'Consultant (m/w/d) AI & Data Science in Hamburg',\n",
              "       'Apprenti Ingénieur Business Intelligence (H/F) - NIEDERHERGHEIM',\n",
              "       'HR Group Reward & HR Data Analyst',\n",
              "       'Media Search Analyst | French Speaker', 'Data Associate',\n",
              "       'Data Engineer - Internal Analytics', 'Interim HR Data Analyst',\n",
              "       'Language Researcher / Data Analyst - French',\n",
              "       'Online Data Analyst - Hungary', 'P2P Operations Credit Analyst',\n",
              "       'Ing. Elettronico/Data Analyst',\n",
              "       'Customer Data Platform (CDP) Specialist / Customer Data Consultant / MarTech Expert / Data Analyst (H/F)',\n",
              "       'Module Data Science Engineer',\n",
              "       'Advance Analytics and AI practitioner',\n",
              "       'Data Analyst / Consultant Qlikview/Qliksense (m/w/d)',\n",
              "       'Quality Assurance Analyst', 'Python Software Engineer',\n",
              "       'Développeur C# H/F', 'Fullstack Python Developer - Data Lake',\n",
              "       'Junior Entwickler (m/w/d) – Data Science Automotive',\n",
              "       'Analytics Engineer (open to full remote in Germany)',\n",
              "       'Scientific programmer and data analyst',\n",
              "       'Software Engineer - Site Reliability',\n",
              "       'Software Engineer (m/w/d)', 'Ingénieur-e écoconception F/H',\n",
              "       'Genomics Data Analyst',\n",
              "       'Analytics Engineer (open to full remote in Spain)',\n",
              "       'Junior Engineer for Dynamic Mooring Analyses',\n",
              "       'Data Research Analyst', 'Junior Developer - Low-Code (m/w/d)',\n",
              "       'Junior Business Intelligence Analyst',\n",
              "       'Praktikant / Werkstudent Data Analyst (m/w/d) Financial Services Industry',\n",
              "       'Junior data scientist/onderzoeker',\n",
              "       'Praktikum Trade Marketing – Dove, Axe, Duschdas (m/w/d)',\n",
              "       'Data Engineer (m/f/d) - Pricing Intelligence',\n",
              "       'Data Administrator',\n",
              "       'Ingénieur IVVQ-Spatiale – Valence, France (H/F)',\n",
              "       'Ingénieur Qualité Projet Développement',\n",
              "       'Quality Engineer Junior', 'BI Data Analyst Intern (f/m/x)',\n",
              "       'Support Engineer',\n",
              "       'Python Entwickler (gn) für AUTOSAR-XML: Ingolstadt & remote',\n",
              "       'Practice Data Engineer F/H', 'Senior Analytics Consultant',\n",
              "       'Internet Analyst | Florence, Italy Metropolitan Area',\n",
              "       'Technical Support Engineer - Azure Synapse Analytics',\n",
              "       'Analytics Engineer (open to full remote in France)',\n",
              "       'Junior Consultant', 'Data Engineer – E-Commerce',\n",
              "       'Data Architect/ Engineer Graduate',\n",
              "       'Graduate Marketing Technology Analyst',\n",
              "       'Desarrollador/a Mercado Canal Nocturno, Barcelona',\n",
              "       'ESG Data Specialist',\n",
              "       'Duales Masterstudium Applied Data Science (m/w/d)',\n",
              "       'Développeur Python H/F',\n",
              "       '(Junior) Consultant Digitales & Strategisches Prozessmanagement (m/w/d) in Berlin',\n",
              "       'Ingénieur logiciel – Caen, France (H/F)',\n",
              "       'Ocean Freight Operator',\n",
              "       'Qualitätsingenieur (*) für Medizinprodukte', 'Developer, C#',\n",
              "       'Ingénieur Opérations Sol H/F', 'Consulente junior',\n",
              "       'SAS Engineer/Consultant',\n",
              "       'Data Expert (m/w/d) für das Rail-Segment',\n",
              "       '(Junior) Software Developer - Python', 'Junior Energy Analyst',\n",
              "       'Language Data Analyst', 'Data Scientist - Data Science',\n",
              "       'Data Junior Analyst [Online / Phone Recruitment]',\n",
              "       'Traffic Analyst', 'Junior Developer (J12998)',\n",
              "       'Assistenz (w/m/d) des CEO West - Schwerpunkt Data Analyst / Controlling',\n",
              "       'Project Services Assistant', 'CONSULENTE APPLICATIVO ERP JUNIOR',\n",
              "       'Graduate (m/f/d) Rotation Program for Business, Operations and Finance 2023',\n",
              "       'VIE Acousitcs / NVH engineer', 'Software Engineer (Go/Python)',\n",
              "       'SAS Engineer / Consultant', 'Senior Software Engineer, Data',\n",
              "       'Part-time Project | French Speaker',\n",
              "       'Operation Support - Categorie Protette',\n",
              "       'Purchasing Analyst (m/w/d) 100%',\n",
              "       'Cork, Ireland | Customer Service and Business Data Technician - Turkish or Italian language',\n",
              "       'Early Career Developer (J12996)', 'HSES Administrator',\n",
              "       'Team Assistant (Konstanz)', 'Position Vacant for Czech speaker',\n",
              "       'CATEGORIE PROTETTE - Operation Support',\n",
              "       'Backend Engineer - Personalization', 'Data Scientist - Napoli',\n",
              "       'Evaluation Lead', 'Pressure Analyst',\n",
              "       'Sachbearbeiter (m/w/d) Collection',\n",
              "       'Junior Airport Security Consultant',\n",
              "       'Corporate Business Intelligence Engineer',\n",
              "       'Specialist Data Science (*)', 'Freelance (HUNGARIAN)',\n",
              "       'Position Vacant for Hungarian speaker',\n",
              "       'JUNIOR ANALISTA ORGANIZZAZIONE', 'Business analyst',\n",
              "       'Cork, Ireland | Customer Service and Business Data Technician -  Japanese language',\n",
              "       'People Assistant (Payroll & Benefits)',\n",
              "       'Product Manager, Technical - Data Infrastructure and Streaming',\n",
              "       'Early Career Professional (m/f/d) in the field of Sales Operations',\n",
              "       'Supplier Master Data Staff', 'Internal Audit Specialist',\n",
              "       'DevOps / Python Developer', 'Value Engineer New Mobility (w/m/d)',\n",
              "       'INGENIEUR EXPLOITATION SI H/F  — Contrat à Durée Indéterminée (CDI)',\n",
              "       'Consultant Data Analytics - Consulting (Financial Services) (w/m/d)',\n",
              "       'Digital Advertising Senior Specialist',\n",
              "       'Technical Product Manager',\n",
              "       'Développeur Agile Java fullstack-(H/F)',\n",
              "       'Business Analyst H/F - Bordeaux',\n",
              "       'Data Scientist – Consultant – Financial Services (H/F)',\n",
              "       'Junior SAP Analyst', 'Recruitment and HR Development Specialist',\n",
              "       'Product Designer - Sustainability squad', 'Engineer - R&D',\n",
              "       'Data Scientist-RAL Up to 50K', 'Data Scientist Business',\n",
              "       'Full-stack Engineer', 'PHP Developer',\n",
              "       'Middle Front - End Engineer', 'Sviluppatore php',\n",
              "       'Junior Developer (J12996)',\n",
              "       'Principal Product Designer (Design System + DesignOps)',\n",
              "       'Stage - Consultant(e) Data Engineer - Big Data Developer'],\n",
              "      dtype=object)"
            ]
          },
          "execution_count": 43,
          "metadata": {},
          "output_type": "execute_result"
        }
      ],
      "source": [
        "df.title.unique()"
      ]
    },
    {
      "cell_type": "markdown",
      "metadata": {
        "id": "c2Vmpkk7HNrP"
      },
      "source": [
        "Oops, here we have some irrelevant ones. We will get rid of them."
      ]
    },
    {
      "cell_type": "code",
      "execution_count": 44,
      "metadata": {
        "colab": {
          "base_uri": "https://localhost:8080/"
        },
        "id": "sew4P_BrREaY",
        "outputId": "69bd16fd-c4ae-4444-dbad-0522be05408f"
      },
      "outputs": [
        {
          "data": {
            "text/plain": [
              "772"
            ]
          },
          "execution_count": 44,
          "metadata": {},
          "output_type": "execute_result"
        }
      ],
      "source": [
        "len(df)"
      ]
    },
    {
      "cell_type": "code",
      "execution_count": 45,
      "metadata": {
        "colab": {
          "base_uri": "https://localhost:8080/"
        },
        "id": "0zHkjw0gKKv6",
        "outputId": "8e9c0870-7e63-4f57-e605-72e04e7496f8"
      },
      "outputs": [
        {
          "data": {
            "text/plain": [
              "266"
            ]
          },
          "execution_count": 45,
          "metadata": {},
          "output_type": "execute_result"
        }
      ],
      "source": [
        "pattern = 'Data Ana|BI Ana|Business Intelligence Ana'\n",
        "mask = df['title'].str.contains(pattern, case=False)\n",
        "len(df[mask])"
      ]
    },
    {
      "cell_type": "markdown",
      "metadata": {
        "id": "Zfu_OHkGRQxT"
      },
      "source": [
        "Uh-oh, from 772 to 266. However, now our data is clean."
      ]
    },
    {
      "cell_type": "code",
      "execution_count": 46,
      "metadata": {
        "id": "1oTsERM0RXc8"
      },
      "outputs": [],
      "source": [
        "df = df[mask].reset_index()"
      ]
    },
    {
      "cell_type": "markdown",
      "metadata": {
        "id": "116SG2M3UtAa"
      },
      "source": [
        "Do we have any duplicates?"
      ]
    },
    {
      "cell_type": "code",
      "execution_count": 47,
      "metadata": {
        "colab": {
          "base_uri": "https://localhost:8080/"
        },
        "id": "RYCUN8VnVBjh",
        "outputId": "93545860-fbf4-4ffb-f524-73968527ea74"
      },
      "outputs": [
        {
          "data": {
            "text/plain": [
              "0"
            ]
          },
          "execution_count": 47,
          "metadata": {},
          "output_type": "execute_result"
        }
      ],
      "source": [
        "df.duplicated(subset=['html']).sum()"
      ]
    },
    {
      "cell_type": "markdown",
      "metadata": {
        "id": "KxLuG8prWWBP"
      },
      "source": [
        "Do we have any NaNs?"
      ]
    },
    {
      "cell_type": "code",
      "execution_count": 48,
      "metadata": {
        "colab": {
          "base_uri": "https://localhost:8080/"
        },
        "id": "NOQCIZGQUrNW",
        "outputId": "18fa1d01-54f3-4736-a147-ae9d25dec3ca"
      },
      "outputs": [
        {
          "data": {
            "text/plain": [
              "index               0\n",
              "Unnamed: 0          0\n",
              "html                0\n",
              "title               0\n",
              "geo                 0\n",
              "city               18\n",
              "country            13\n",
              "job_type           51\n",
              "company_name        0\n",
              "employee_number     1\n",
              "candidates         28\n",
              "company_field      20\n",
              "skills              0\n",
              "date                0\n",
              "link                0\n",
              "dtype: int64"
            ]
          },
          "execution_count": 48,
          "metadata": {},
          "output_type": "execute_result"
        }
      ],
      "source": [
        "df.isna().sum()"
      ]
    },
    {
      "cell_type": "markdown",
      "metadata": {
        "id": "O24ttlYyWcms"
      },
      "source": [
        "Yes, we do. We can manually insert the missing info to 'country'."
      ]
    },
    {
      "cell_type": "code",
      "execution_count": 49,
      "metadata": {
        "colab": {
          "base_uri": "https://localhost:8080/",
          "height": 249
        },
        "id": "e8CVOlf7Wo5Y",
        "outputId": "20bd1b4f-28ba-4e87-b3ef-1cb53e1419c7"
      },
      "outputs": [
        {
          "data": {
            "text/html": [
              "\n",
              "  <div id=\"df-bd4cd0df-194d-40af-84e6-896218cb2835\">\n",
              "    <div class=\"colab-df-container\">\n",
              "      <div>\n",
              "<style scoped>\n",
              "    .dataframe tbody tr th:only-of-type {\n",
              "        vertical-align: middle;\n",
              "    }\n",
              "\n",
              "    .dataframe tbody tr th {\n",
              "        vertical-align: top;\n",
              "    }\n",
              "\n",
              "    .dataframe thead th {\n",
              "        text-align: right;\n",
              "    }\n",
              "</style>\n",
              "<table border=\"1\" class=\"dataframe\">\n",
              "  <thead>\n",
              "    <tr style=\"text-align: right;\">\n",
              "      <th></th>\n",
              "      <th>index</th>\n",
              "      <th>Unnamed: 0</th>\n",
              "      <th>html</th>\n",
              "      <th>title</th>\n",
              "      <th>geo</th>\n",
              "      <th>city</th>\n",
              "      <th>country</th>\n",
              "      <th>job_type</th>\n",
              "      <th>company_name</th>\n",
              "      <th>employee_number</th>\n",
              "      <th>candidates</th>\n",
              "      <th>company_field</th>\n",
              "      <th>skills</th>\n",
              "      <th>date</th>\n",
              "      <th>link</th>\n",
              "    </tr>\n",
              "  </thead>\n",
              "  <tbody>\n",
              "    <tr>\n",
              "      <th>174</th>\n",
              "      <td>344</td>\n",
              "      <td>344</td>\n",
              "      <td>\\n  &lt;div&gt;\\n    &lt;div class=\"\\n        jobs-deta...</td>\n",
              "      <td>Data Analyst</td>\n",
              "      <td>Greater Zurich Area</td>\n",
              "      <td>Zurich</td>\n",
              "      <td>NaN</td>\n",
              "      <td>Remote</td>\n",
              "      <td>Appen</td>\n",
              "      <td>501-1,000</td>\n",
              "      <td>23</td>\n",
              "      <td>IT Services and IT Consulting</td>\n",
              "      <td>[excel]</td>\n",
              "      <td>2022-09-02</td>\n",
              "      <td>https://linkedin.com/jobs/view/3243899023/?alt...</td>\n",
              "    </tr>\n",
              "  </tbody>\n",
              "</table>\n",
              "</div>\n",
              "      <button class=\"colab-df-convert\" onclick=\"convertToInteractive('df-bd4cd0df-194d-40af-84e6-896218cb2835')\"\n",
              "              title=\"Convert this dataframe to an interactive table.\"\n",
              "              style=\"display:none;\">\n",
              "        \n",
              "  <svg xmlns=\"http://www.w3.org/2000/svg\" height=\"24px\"viewBox=\"0 0 24 24\"\n",
              "       width=\"24px\">\n",
              "    <path d=\"M0 0h24v24H0V0z\" fill=\"none\"/>\n",
              "    <path d=\"M18.56 5.44l.94 2.06.94-2.06 2.06-.94-2.06-.94-.94-2.06-.94 2.06-2.06.94zm-11 1L8.5 8.5l.94-2.06 2.06-.94-2.06-.94L8.5 2.5l-.94 2.06-2.06.94zm10 10l.94 2.06.94-2.06 2.06-.94-2.06-.94-.94-2.06-.94 2.06-2.06.94z\"/><path d=\"M17.41 7.96l-1.37-1.37c-.4-.4-.92-.59-1.43-.59-.52 0-1.04.2-1.43.59L10.3 9.45l-7.72 7.72c-.78.78-.78 2.05 0 2.83L4 21.41c.39.39.9.59 1.41.59.51 0 1.02-.2 1.41-.59l7.78-7.78 2.81-2.81c.8-.78.8-2.07 0-2.86zM5.41 20L4 18.59l7.72-7.72 1.47 1.35L5.41 20z\"/>\n",
              "  </svg>\n",
              "      </button>\n",
              "      \n",
              "  <style>\n",
              "    .colab-df-container {\n",
              "      display:flex;\n",
              "      flex-wrap:wrap;\n",
              "      gap: 12px;\n",
              "    }\n",
              "\n",
              "    .colab-df-convert {\n",
              "      background-color: #E8F0FE;\n",
              "      border: none;\n",
              "      border-radius: 50%;\n",
              "      cursor: pointer;\n",
              "      display: none;\n",
              "      fill: #1967D2;\n",
              "      height: 32px;\n",
              "      padding: 0 0 0 0;\n",
              "      width: 32px;\n",
              "    }\n",
              "\n",
              "    .colab-df-convert:hover {\n",
              "      background-color: #E2EBFA;\n",
              "      box-shadow: 0px 1px 2px rgba(60, 64, 67, 0.3), 0px 1px 3px 1px rgba(60, 64, 67, 0.15);\n",
              "      fill: #174EA6;\n",
              "    }\n",
              "\n",
              "    [theme=dark] .colab-df-convert {\n",
              "      background-color: #3B4455;\n",
              "      fill: #D2E3FC;\n",
              "    }\n",
              "\n",
              "    [theme=dark] .colab-df-convert:hover {\n",
              "      background-color: #434B5C;\n",
              "      box-shadow: 0px 1px 3px 1px rgba(0, 0, 0, 0.15);\n",
              "      filter: drop-shadow(0px 1px 2px rgba(0, 0, 0, 0.3));\n",
              "      fill: #FFFFFF;\n",
              "    }\n",
              "  </style>\n",
              "\n",
              "      <script>\n",
              "        const buttonEl =\n",
              "          document.querySelector('#df-bd4cd0df-194d-40af-84e6-896218cb2835 button.colab-df-convert');\n",
              "        buttonEl.style.display =\n",
              "          google.colab.kernel.accessAllowed ? 'block' : 'none';\n",
              "\n",
              "        async function convertToInteractive(key) {\n",
              "          const element = document.querySelector('#df-bd4cd0df-194d-40af-84e6-896218cb2835');\n",
              "          const dataTable =\n",
              "            await google.colab.kernel.invokeFunction('convertToInteractive',\n",
              "                                                     [key], {});\n",
              "          if (!dataTable) return;\n",
              "\n",
              "          const docLinkHtml = 'Like what you see? Visit the ' +\n",
              "            '<a target=\"_blank\" href=https://colab.research.google.com/notebooks/data_table.ipynb>data table notebook</a>'\n",
              "            + ' to learn more about interactive tables.';\n",
              "          element.innerHTML = '';\n",
              "          dataTable['output_type'] = 'display_data';\n",
              "          await google.colab.output.renderOutput(dataTable, element);\n",
              "          const docLink = document.createElement('div');\n",
              "          docLink.innerHTML = docLinkHtml;\n",
              "          element.appendChild(docLink);\n",
              "        }\n",
              "      </script>\n",
              "    </div>\n",
              "  </div>\n",
              "  "
            ],
            "text/plain": [
              "     index  Unnamed: 0                                               html  \\\n",
              "174    344         344  \\n  <div>\\n    <div class=\"\\n        jobs-deta...   \n",
              "\n",
              "            title                  geo    city country job_type company_name  \\\n",
              "174  Data Analyst  Greater Zurich Area  Zurich     NaN   Remote        Appen   \n",
              "\n",
              "    employee_number candidates                  company_field   skills  \\\n",
              "174       501-1,000         23  IT Services and IT Consulting  [excel]   \n",
              "\n",
              "           date                                               link  \n",
              "174  2022-09-02  https://linkedin.com/jobs/view/3243899023/?alt...  "
            ]
          },
          "execution_count": 49,
          "metadata": {},
          "output_type": "execute_result"
        }
      ],
      "source": [
        "df[df['country'].isna()].sample()"
      ]
    },
    {
      "cell_type": "code",
      "execution_count": 50,
      "metadata": {
        "id": "uCmgZFk4W1IF"
      },
      "outputs": [],
      "source": [
        "df.at[5,'country']='Poland'\n",
        "df.at[13,'country']='Poland'\n",
        "df.at[16,'country']='Sweden'\n",
        "df.at[17,'country']='Poland'\n",
        "df.at[19,'country']='Poland'\n",
        "df.at[20,'country']='Scotland'\n",
        "df.at[41,'country']='Poland'\n",
        "df.at[61,'country']='Poland'\n",
        "df.at[100,'country']='Romania'\n",
        "df.at[103,'country']='Italy'\n",
        "df.at[174,'country']='Switzerland'\n",
        "df.at[183,'country']='Spain'\n",
        "df.at[192,'country']='Spain'\n"
      ]
    },
    {
      "cell_type": "code",
      "execution_count": 51,
      "metadata": {
        "colab": {
          "base_uri": "https://localhost:8080/"
        },
        "id": "mxxEovGyYEd-",
        "outputId": "6a58c3f2-473f-42eb-f395-1ba90fc36fc6"
      },
      "outputs": [
        {
          "data": {
            "text/plain": [
              "array(['Sweden', 'Belgium', 'Germany', 'France', 'Poland', 'Gibraltar',\n",
              "       'Scotland', 'United Kingdom', 'Finland', 'Switzerland',\n",
              "       'Netherlands', 'Norway', 'Czechia', 'Bulgaria', 'Italy',\n",
              "       'Portugal', 'Spain', 'Slovakia', 'Romania', 'Luxembourg',\n",
              "       'Ireland', 'Croatia', 'Slovenia', 'Denmark', 'Greece', 'Hungary'],\n",
              "      dtype=object)"
            ]
          },
          "execution_count": 51,
          "metadata": {},
          "output_type": "execute_result"
        }
      ],
      "source": [
        "df.country.unique()"
      ]
    },
    {
      "cell_type": "markdown",
      "metadata": {
        "id": "3LuisJFaYQkx"
      },
      "source": [
        "We cannot do anything about the cities - the info is missing even in 'geo'."
      ]
    },
    {
      "cell_type": "code",
      "execution_count": 52,
      "metadata": {
        "colab": {
          "base_uri": "https://localhost:8080/",
          "height": 229
        },
        "id": "78e8wXwXYW1r",
        "outputId": "1f85dd9b-0561-4167-efae-6f09e08381be"
      },
      "outputs": [
        {
          "data": {
            "text/html": [
              "\n",
              "  <div id=\"df-f54ad76b-f706-49ca-8cc9-2b2d8c542a11\">\n",
              "    <div class=\"colab-df-container\">\n",
              "      <div>\n",
              "<style scoped>\n",
              "    .dataframe tbody tr th:only-of-type {\n",
              "        vertical-align: middle;\n",
              "    }\n",
              "\n",
              "    .dataframe tbody tr th {\n",
              "        vertical-align: top;\n",
              "    }\n",
              "\n",
              "    .dataframe thead th {\n",
              "        text-align: right;\n",
              "    }\n",
              "</style>\n",
              "<table border=\"1\" class=\"dataframe\">\n",
              "  <thead>\n",
              "    <tr style=\"text-align: right;\">\n",
              "      <th></th>\n",
              "      <th>index</th>\n",
              "      <th>Unnamed: 0</th>\n",
              "      <th>html</th>\n",
              "      <th>title</th>\n",
              "      <th>geo</th>\n",
              "      <th>city</th>\n",
              "      <th>country</th>\n",
              "      <th>job_type</th>\n",
              "      <th>company_name</th>\n",
              "      <th>employee_number</th>\n",
              "      <th>candidates</th>\n",
              "      <th>company_field</th>\n",
              "      <th>skills</th>\n",
              "      <th>date</th>\n",
              "      <th>link</th>\n",
              "    </tr>\n",
              "  </thead>\n",
              "  <tbody>\n",
              "    <tr>\n",
              "      <th>39</th>\n",
              "      <td>70</td>\n",
              "      <td>70</td>\n",
              "      <td>\\n  &lt;div&gt;\\n    &lt;div class=\"\\n        jobs-deta...</td>\n",
              "      <td>Data Analytics Engineer</td>\n",
              "      <td>Poland</td>\n",
              "      <td>NaN</td>\n",
              "      <td>Poland</td>\n",
              "      <td>Remote</td>\n",
              "      <td>EPAM Systems</td>\n",
              "      <td>10,001+</td>\n",
              "      <td>24</td>\n",
              "      <td>IT Services and IT Consulting</td>\n",
              "      <td>[sql]</td>\n",
              "      <td>2022-09-07</td>\n",
              "      <td>https://linkedin.com/jobs/view/3256715174/?alt...</td>\n",
              "    </tr>\n",
              "  </tbody>\n",
              "</table>\n",
              "</div>\n",
              "      <button class=\"colab-df-convert\" onclick=\"convertToInteractive('df-f54ad76b-f706-49ca-8cc9-2b2d8c542a11')\"\n",
              "              title=\"Convert this dataframe to an interactive table.\"\n",
              "              style=\"display:none;\">\n",
              "        \n",
              "  <svg xmlns=\"http://www.w3.org/2000/svg\" height=\"24px\"viewBox=\"0 0 24 24\"\n",
              "       width=\"24px\">\n",
              "    <path d=\"M0 0h24v24H0V0z\" fill=\"none\"/>\n",
              "    <path d=\"M18.56 5.44l.94 2.06.94-2.06 2.06-.94-2.06-.94-.94-2.06-.94 2.06-2.06.94zm-11 1L8.5 8.5l.94-2.06 2.06-.94-2.06-.94L8.5 2.5l-.94 2.06-2.06.94zm10 10l.94 2.06.94-2.06 2.06-.94-2.06-.94-.94-2.06-.94 2.06-2.06.94z\"/><path d=\"M17.41 7.96l-1.37-1.37c-.4-.4-.92-.59-1.43-.59-.52 0-1.04.2-1.43.59L10.3 9.45l-7.72 7.72c-.78.78-.78 2.05 0 2.83L4 21.41c.39.39.9.59 1.41.59.51 0 1.02-.2 1.41-.59l7.78-7.78 2.81-2.81c.8-.78.8-2.07 0-2.86zM5.41 20L4 18.59l7.72-7.72 1.47 1.35L5.41 20z\"/>\n",
              "  </svg>\n",
              "      </button>\n",
              "      \n",
              "  <style>\n",
              "    .colab-df-container {\n",
              "      display:flex;\n",
              "      flex-wrap:wrap;\n",
              "      gap: 12px;\n",
              "    }\n",
              "\n",
              "    .colab-df-convert {\n",
              "      background-color: #E8F0FE;\n",
              "      border: none;\n",
              "      border-radius: 50%;\n",
              "      cursor: pointer;\n",
              "      display: none;\n",
              "      fill: #1967D2;\n",
              "      height: 32px;\n",
              "      padding: 0 0 0 0;\n",
              "      width: 32px;\n",
              "    }\n",
              "\n",
              "    .colab-df-convert:hover {\n",
              "      background-color: #E2EBFA;\n",
              "      box-shadow: 0px 1px 2px rgba(60, 64, 67, 0.3), 0px 1px 3px 1px rgba(60, 64, 67, 0.15);\n",
              "      fill: #174EA6;\n",
              "    }\n",
              "\n",
              "    [theme=dark] .colab-df-convert {\n",
              "      background-color: #3B4455;\n",
              "      fill: #D2E3FC;\n",
              "    }\n",
              "\n",
              "    [theme=dark] .colab-df-convert:hover {\n",
              "      background-color: #434B5C;\n",
              "      box-shadow: 0px 1px 3px 1px rgba(0, 0, 0, 0.15);\n",
              "      filter: drop-shadow(0px 1px 2px rgba(0, 0, 0, 0.3));\n",
              "      fill: #FFFFFF;\n",
              "    }\n",
              "  </style>\n",
              "\n",
              "      <script>\n",
              "        const buttonEl =\n",
              "          document.querySelector('#df-f54ad76b-f706-49ca-8cc9-2b2d8c542a11 button.colab-df-convert');\n",
              "        buttonEl.style.display =\n",
              "          google.colab.kernel.accessAllowed ? 'block' : 'none';\n",
              "\n",
              "        async function convertToInteractive(key) {\n",
              "          const element = document.querySelector('#df-f54ad76b-f706-49ca-8cc9-2b2d8c542a11');\n",
              "          const dataTable =\n",
              "            await google.colab.kernel.invokeFunction('convertToInteractive',\n",
              "                                                     [key], {});\n",
              "          if (!dataTable) return;\n",
              "\n",
              "          const docLinkHtml = 'Like what you see? Visit the ' +\n",
              "            '<a target=\"_blank\" href=https://colab.research.google.com/notebooks/data_table.ipynb>data table notebook</a>'\n",
              "            + ' to learn more about interactive tables.';\n",
              "          element.innerHTML = '';\n",
              "          dataTable['output_type'] = 'display_data';\n",
              "          await google.colab.output.renderOutput(dataTable, element);\n",
              "          const docLink = document.createElement('div');\n",
              "          docLink.innerHTML = docLinkHtml;\n",
              "          element.appendChild(docLink);\n",
              "        }\n",
              "      </script>\n",
              "    </div>\n",
              "  </div>\n",
              "  "
            ],
            "text/plain": [
              "    index  Unnamed: 0                                               html  \\\n",
              "39     70          70  \\n  <div>\\n    <div class=\"\\n        jobs-deta...   \n",
              "\n",
              "                      title     geo city country job_type  company_name  \\\n",
              "39  Data Analytics Engineer  Poland  NaN  Poland   Remote  EPAM Systems   \n",
              "\n",
              "   employee_number candidates                  company_field skills  \\\n",
              "39         10,001+         24  IT Services and IT Consulting  [sql]   \n",
              "\n",
              "          date                                               link  \n",
              "39  2022-09-07  https://linkedin.com/jobs/view/3256715174/?alt...  "
            ]
          },
          "execution_count": 52,
          "metadata": {},
          "output_type": "execute_result"
        }
      ],
      "source": [
        "df[df['city'].isna()].sample()"
      ]
    },
    {
      "cell_type": "markdown",
      "metadata": {
        "id": "b-c6IBT0pWYw"
      },
      "source": [
        "Let's also fill our empty cells in for convenience"
      ]
    },
    {
      "cell_type": "code",
      "execution_count": 53,
      "metadata": {
        "id": "PkdZr1mrpVmf"
      },
      "outputs": [],
      "source": [
        "df[['city', 'employee_number', 'job_type', 'company_name', 'candidates', 'company_field']] = \\\n",
        " df[['city', 'employee_number', 'job_type', 'company_name', 'candidates', 'company_field']].fillna('unknown')"
      ]
    },
    {
      "cell_type": "code",
      "execution_count": 54,
      "metadata": {
        "colab": {
          "base_uri": "https://localhost:8080/"
        },
        "id": "-XVs6wneqlEb",
        "outputId": "4f8c6691-9e36-4439-8d5f-b7d6ce954370"
      },
      "outputs": [
        {
          "data": {
            "text/plain": [
              "index              0\n",
              "Unnamed: 0         0\n",
              "html               0\n",
              "title              0\n",
              "geo                0\n",
              "city               0\n",
              "country            0\n",
              "job_type           0\n",
              "company_name       0\n",
              "employee_number    0\n",
              "candidates         0\n",
              "company_field      0\n",
              "skills             0\n",
              "date               0\n",
              "link               0\n",
              "dtype: int64"
            ]
          },
          "execution_count": 54,
          "metadata": {},
          "output_type": "execute_result"
        }
      ],
      "source": [
        "df.isna().sum()"
      ]
    },
    {
      "cell_type": "code",
      "execution_count": 55,
      "metadata": {
        "colab": {
          "base_uri": "https://localhost:8080/"
        },
        "id": "fVwyvdGvUEKo",
        "outputId": "611b033c-cfee-4708-a29b-b118c802997a"
      },
      "outputs": [
        {
          "data": {
            "text/plain": [
              "Index(['index', 'Unnamed: 0', 'html', 'title', 'geo', 'city', 'country',\n",
              "       'job_type', 'company_name', 'employee_number', 'candidates',\n",
              "       'company_field', 'skills', 'date', 'link'],\n",
              "      dtype='object')"
            ]
          },
          "execution_count": 55,
          "metadata": {},
          "output_type": "execute_result"
        }
      ],
      "source": [
        "df.columns"
      ]
    },
    {
      "cell_type": "markdown",
      "metadata": {
        "id": "ML6P4G7bUNSO"
      },
      "source": [
        "Let's delete unimportant columns"
      ]
    },
    {
      "cell_type": "code",
      "execution_count": 56,
      "metadata": {
        "id": "e7UCyQdCUTsG"
      },
      "outputs": [],
      "source": [
        "df = df.drop(['index', 'Unnamed: 0', 'html','geo'],axis=1)"
      ]
    },
    {
      "cell_type": "code",
      "execution_count": 57,
      "metadata": {
        "colab": {
          "base_uri": "https://localhost:8080/",
          "height": 142
        },
        "id": "f9gfg4Hgah84",
        "outputId": "a68c8d5b-c5f4-4537-8410-857bcd38cb9f"
      },
      "outputs": [
        {
          "data": {
            "text/html": [
              "\n",
              "  <div id=\"df-cee0e129-2385-46da-ad04-5679e3bc0907\">\n",
              "    <div class=\"colab-df-container\">\n",
              "      <div>\n",
              "<style scoped>\n",
              "    .dataframe tbody tr th:only-of-type {\n",
              "        vertical-align: middle;\n",
              "    }\n",
              "\n",
              "    .dataframe tbody tr th {\n",
              "        vertical-align: top;\n",
              "    }\n",
              "\n",
              "    .dataframe thead th {\n",
              "        text-align: right;\n",
              "    }\n",
              "</style>\n",
              "<table border=\"1\" class=\"dataframe\">\n",
              "  <thead>\n",
              "    <tr style=\"text-align: right;\">\n",
              "      <th></th>\n",
              "      <th>title</th>\n",
              "      <th>city</th>\n",
              "      <th>country</th>\n",
              "      <th>job_type</th>\n",
              "      <th>company_name</th>\n",
              "      <th>employee_number</th>\n",
              "      <th>candidates</th>\n",
              "      <th>company_field</th>\n",
              "      <th>skills</th>\n",
              "      <th>date</th>\n",
              "      <th>link</th>\n",
              "    </tr>\n",
              "  </thead>\n",
              "  <tbody>\n",
              "    <tr>\n",
              "      <th>257</th>\n",
              "      <td>Scientific programmer and data analyst</td>\n",
              "      <td>Delft</td>\n",
              "      <td>Netherlands</td>\n",
              "      <td>On-site</td>\n",
              "      <td>Technische Universiteit Delft</td>\n",
              "      <td>5,001-10,000</td>\n",
              "      <td>24</td>\n",
              "      <td>Research Services</td>\n",
              "      <td>[python, matlab, c++]</td>\n",
              "      <td>2022-09-01</td>\n",
              "      <td>https://linkedin.com/jobs/view/3247572656/?alt...</td>\n",
              "    </tr>\n",
              "  </tbody>\n",
              "</table>\n",
              "</div>\n",
              "      <button class=\"colab-df-convert\" onclick=\"convertToInteractive('df-cee0e129-2385-46da-ad04-5679e3bc0907')\"\n",
              "              title=\"Convert this dataframe to an interactive table.\"\n",
              "              style=\"display:none;\">\n",
              "        \n",
              "  <svg xmlns=\"http://www.w3.org/2000/svg\" height=\"24px\"viewBox=\"0 0 24 24\"\n",
              "       width=\"24px\">\n",
              "    <path d=\"M0 0h24v24H0V0z\" fill=\"none\"/>\n",
              "    <path d=\"M18.56 5.44l.94 2.06.94-2.06 2.06-.94-2.06-.94-.94-2.06-.94 2.06-2.06.94zm-11 1L8.5 8.5l.94-2.06 2.06-.94-2.06-.94L8.5 2.5l-.94 2.06-2.06.94zm10 10l.94 2.06.94-2.06 2.06-.94-2.06-.94-.94-2.06-.94 2.06-2.06.94z\"/><path d=\"M17.41 7.96l-1.37-1.37c-.4-.4-.92-.59-1.43-.59-.52 0-1.04.2-1.43.59L10.3 9.45l-7.72 7.72c-.78.78-.78 2.05 0 2.83L4 21.41c.39.39.9.59 1.41.59.51 0 1.02-.2 1.41-.59l7.78-7.78 2.81-2.81c.8-.78.8-2.07 0-2.86zM5.41 20L4 18.59l7.72-7.72 1.47 1.35L5.41 20z\"/>\n",
              "  </svg>\n",
              "      </button>\n",
              "      \n",
              "  <style>\n",
              "    .colab-df-container {\n",
              "      display:flex;\n",
              "      flex-wrap:wrap;\n",
              "      gap: 12px;\n",
              "    }\n",
              "\n",
              "    .colab-df-convert {\n",
              "      background-color: #E8F0FE;\n",
              "      border: none;\n",
              "      border-radius: 50%;\n",
              "      cursor: pointer;\n",
              "      display: none;\n",
              "      fill: #1967D2;\n",
              "      height: 32px;\n",
              "      padding: 0 0 0 0;\n",
              "      width: 32px;\n",
              "    }\n",
              "\n",
              "    .colab-df-convert:hover {\n",
              "      background-color: #E2EBFA;\n",
              "      box-shadow: 0px 1px 2px rgba(60, 64, 67, 0.3), 0px 1px 3px 1px rgba(60, 64, 67, 0.15);\n",
              "      fill: #174EA6;\n",
              "    }\n",
              "\n",
              "    [theme=dark] .colab-df-convert {\n",
              "      background-color: #3B4455;\n",
              "      fill: #D2E3FC;\n",
              "    }\n",
              "\n",
              "    [theme=dark] .colab-df-convert:hover {\n",
              "      background-color: #434B5C;\n",
              "      box-shadow: 0px 1px 3px 1px rgba(0, 0, 0, 0.15);\n",
              "      filter: drop-shadow(0px 1px 2px rgba(0, 0, 0, 0.3));\n",
              "      fill: #FFFFFF;\n",
              "    }\n",
              "  </style>\n",
              "\n",
              "      <script>\n",
              "        const buttonEl =\n",
              "          document.querySelector('#df-cee0e129-2385-46da-ad04-5679e3bc0907 button.colab-df-convert');\n",
              "        buttonEl.style.display =\n",
              "          google.colab.kernel.accessAllowed ? 'block' : 'none';\n",
              "\n",
              "        async function convertToInteractive(key) {\n",
              "          const element = document.querySelector('#df-cee0e129-2385-46da-ad04-5679e3bc0907');\n",
              "          const dataTable =\n",
              "            await google.colab.kernel.invokeFunction('convertToInteractive',\n",
              "                                                     [key], {});\n",
              "          if (!dataTable) return;\n",
              "\n",
              "          const docLinkHtml = 'Like what you see? Visit the ' +\n",
              "            '<a target=\"_blank\" href=https://colab.research.google.com/notebooks/data_table.ipynb>data table notebook</a>'\n",
              "            + ' to learn more about interactive tables.';\n",
              "          element.innerHTML = '';\n",
              "          dataTable['output_type'] = 'display_data';\n",
              "          await google.colab.output.renderOutput(dataTable, element);\n",
              "          const docLink = document.createElement('div');\n",
              "          docLink.innerHTML = docLinkHtml;\n",
              "          element.appendChild(docLink);\n",
              "        }\n",
              "      </script>\n",
              "    </div>\n",
              "  </div>\n",
              "  "
            ],
            "text/plain": [
              "                                      title   city      country job_type  \\\n",
              "257  Scientific programmer and data analyst  Delft  Netherlands  On-site   \n",
              "\n",
              "                      company_name employee_number candidates  \\\n",
              "257  Technische Universiteit Delft    5,001-10,000         24   \n",
              "\n",
              "         company_field                 skills        date  \\\n",
              "257  Research Services  [python, matlab, c++]  2022-09-01   \n",
              "\n",
              "                                                  link  \n",
              "257  https://linkedin.com/jobs/view/3247572656/?alt...  "
            ]
          },
          "execution_count": 57,
          "metadata": {},
          "output_type": "execute_result"
        }
      ],
      "source": [
        "df.sample()"
      ]
    },
    {
      "cell_type": "markdown",
      "metadata": {
        "id": "AJUl-vZja5kn"
      },
      "source": [
        "Maybe it makes sense to make some categories for the \"employee_number\" column"
      ]
    },
    {
      "cell_type": "code",
      "execution_count": 58,
      "metadata": {
        "colab": {
          "base_uri": "https://localhost:8080/"
        },
        "id": "GtwW5NS-bE_-",
        "outputId": "f69e59b2-485d-4e42-82d3-8b23f1aad6d3"
      },
      "outputs": [
        {
          "data": {
            "text/plain": [
              "array(['10,001+', '201-500', '1,001-5,000', '51-200', '5,001-10,000',\n",
              "       '501-1,000', '11-50', '1-10', 'Government', 'See', 'unknown', 'IT'],\n",
              "      dtype=object)"
            ]
          },
          "execution_count": 58,
          "metadata": {},
          "output_type": "execute_result"
        }
      ],
      "source": [
        "df.employee_number.unique()"
      ]
    },
    {
      "cell_type": "markdown",
      "metadata": {
        "id": "xIYZIigTbT_b"
      },
      "source": [
        "We also have some artifacts in this column. Let's nullify them and create categories"
      ]
    },
    {
      "cell_type": "code",
      "execution_count": 59,
      "metadata": {
        "id": "qLBfWywces4w"
      },
      "outputs": [],
      "source": [
        "df.loc[df[\"employee_number\"] == \"1-10\", \"employee_number\"] = \"small\"\n",
        "df.loc[df[\"employee_number\"] == \"11-50\", \"employee_number\"] = \"small\"\n",
        "df.loc[df[\"employee_number\"] == \"51-200\", \"employee_number\"] = \"small\"\n",
        "df.loc[df[\"employee_number\"] == \"201-500\", \"employee_number\"] = \"small\"\n",
        "df.loc[df[\"employee_number\"] == \"501-1,000\", \"employee_number\"] = \"small\""
      ]
    },
    {
      "cell_type": "code",
      "execution_count": 60,
      "metadata": {
        "id": "Wpjptan2dtDs"
      },
      "outputs": [],
      "source": [
        "\n",
        "df.loc[df[\"employee_number\"] == \"Government\", \"employee_number\"] = 'unknown'\n",
        "df.loc[df[\"employee_number\"] == \"See\", \"employee_number\"] = 'unknown'\n",
        "df.loc[df[\"employee_number\"] == \"IT\", \"employee_number\"] = 'unknown'"
      ]
    },
    {
      "cell_type": "code",
      "execution_count": 61,
      "metadata": {
        "id": "QYX7-IDGeIn2"
      },
      "outputs": [],
      "source": [
        "df.loc[df[\"employee_number\"] == \"1,001-5,000\", \"employee_number\"] = \"middle\"\n",
        "df.loc[df[\"employee_number\"] == \"5,001-10,000\", \"employee_number\"] = \"middle\""
      ]
    },
    {
      "cell_type": "code",
      "execution_count": 62,
      "metadata": {
        "id": "0iVKm81neSVk"
      },
      "outputs": [],
      "source": [
        "df.loc[df[\"employee_number\"] == \"10,001+\", \"employee_number\"] = \"big\""
      ]
    },
    {
      "cell_type": "code",
      "execution_count": 63,
      "metadata": {
        "colab": {
          "base_uri": "https://localhost:8080/"
        },
        "id": "8WqAlkcqf0UO",
        "outputId": "1e1519b3-ff37-420f-b210-b96c75cd014a"
      },
      "outputs": [
        {
          "data": {
            "text/plain": [
              "array(['big', 'small', 'middle', 'unknown'], dtype=object)"
            ]
          },
          "execution_count": 63,
          "metadata": {},
          "output_type": "execute_result"
        }
      ],
      "source": [
        "df.employee_number.unique()"
      ]
    },
    {
      "cell_type": "markdown",
      "metadata": {
        "id": "r9S8JwwVW7mx"
      },
      "source": [
        "For our further work in Tableu it's better to use the explode() function. "
      ]
    },
    {
      "cell_type": "code",
      "execution_count": 64,
      "metadata": {
        "id": "x4zE2ItcW4ub"
      },
      "outputs": [],
      "source": [
        "df = df.explode('skills')"
      ]
    },
    {
      "cell_type": "markdown",
      "metadata": {
        "id": "sRUGNq6OXTMX"
      },
      "source": [
        "##Final file for Tableau"
      ]
    },
    {
      "cell_type": "code",
      "execution_count": 65,
      "metadata": {
        "id": "4MpfQGFzXF4N"
      },
      "outputs": [],
      "source": [
        "df.to_csv('linkedin_for_tableau.csv', index = False)"
      ]
    },
    {
      "cell_type": "markdown",
      "metadata": {
        "id": "H2F_nPbibAsZ"
      },
      "source": [
        "Final dashboard countained: \n",
        "\n",
        "1.   Amount of offers per sity of the map of Europe\n",
        "2.   Top ten company fields\n",
        "3.   Most popular hard skills \n",
        "4.   Amount of offers per country (%)\n",
        "5.   Amount of offers per job type \n",
        "6.   Amount of offers per company size\n",
        "7.   Top ten most popular hiring companies\n",
        "\n",
        "Plus an indicator of the total amount of offers and two filters: by country and by job type.\n",
        "\n",
        "Link to Tableau Public https://public.tableau.com/views/LinkedInDABIEntryLeveloffersfor01-07Sep2022/Dashboard1?:language=en-US&publish=yes&:display_count=n&:origin=viz_share_link\n",
        "\n",
        "![New Bitmap Image.jpg](data:image/jpeg;base64,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)\n",
        "\n"
      ]
    }
  ],
  "metadata": {
    "colab": {
      "collapsed_sections": [],
      "provenance": []
    },
    "kernelspec": {
      "display_name": "Python 3",
      "name": "python3"
    },
    "language_info": {
      "name": "python"
    }
  },
  "nbformat": 4,
  "nbformat_minor": 0
}
